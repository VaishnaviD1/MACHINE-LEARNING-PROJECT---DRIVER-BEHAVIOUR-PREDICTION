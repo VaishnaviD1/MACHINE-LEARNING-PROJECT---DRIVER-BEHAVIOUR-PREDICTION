{
  "nbformat": 4,
  "nbformat_minor": 0,
  "metadata": {
    "colab": {
      "provenance": []
    },
    "kernelspec": {
      "name": "python3",
      "display_name": "Python 3"
    },
    "language_info": {
      "name": "python"
    }
  },
  "cells": [
    {
      "cell_type": "markdown",
      "source": [
        "**Datasets**"
      ],
      "metadata": {
        "id": "QEUQLQ7eafEh"
      }
    },
    {
      "cell_type": "markdown",
      "source": [
        "This dataset contains various features related to accelerometer and gyroscope readings collected from sensors installed in cars driven by three different drivers. The target variable is the type of driving behavior exhibited by the driver, which can be sudden acceleration, sudden right turn, sudden left turn, or sudden break.\n",
        "\n",
        "The accelerometer readings are provided for X, Y, and Z axes in meters per second squared (m/s2), while the gyroscope readings are provided for X, Y, and Z axes in degrees per second (°/s). The dataset also includes statistics such as mean, covariance, skewness, kurtosis, sum, minimum, maximum, variance, median, and standard deviation for both accelerometer and gyroscope readings.\n",
        "\n",
        "Overall, the dataset appears to be suitable for developing a driving behavior prediction system using machine learning techniques. However, further exploration and preprocessing may be necessary to ensure that the data is clean and ready for modeling."
      ],
      "metadata": {
        "id": "nFTosgVPaoc3"
      }
    },
    {
      "cell_type": "markdown",
      "source": [
        "**Target**"
      ],
      "metadata": {
        "id": "DrcLhiUSavHt"
      }
    },
    {
      "cell_type": "markdown",
      "source": [
        "arget: The target variable indicating the type of driving behavior exhibited by the driver. Possible values are 1 (sudden acceleration), 2 (sudden right turn), 3 (sudden left turn), and 4 (sudden brake)."
      ],
      "metadata": {
        "id": "f5c6u5SxbAtf"
      }
    },
    {
      "cell_type": "markdown",
      "source": [
        "**Attributes(accelerometer) **"
      ],
      "metadata": {
        "id": "mE3eisvjbF0m"
      }
    },
    {
      "cell_type": "markdown",
      "source": [
        "AccMeanX, AccMeanY, AccMeanZ: The mean values of accelerometer readings for X, Y, and Z axes, respectively.\n",
        "\n",
        "AccCovX, AccCovY, AccCovZ: The covariance values of accelerometer readings for X, Y, and Z axes, respectively.\n",
        "\n",
        "AccSkewX, AccSkewY, AccSkewZ: The skewness values of accelerometer readings for X, Y, and Z axes, respectively.\n",
        "\n",
        "AccKurtX, AccKurtY, AccKurtZ: The kurtosis values of accelerometer readings for X, Y, and Z axes, respectively.\n",
        "\n",
        "AccSumX, AccSumY, AccSumZ: The sum of accelerometer readings for X, Y, and Z axes, respectively.\n",
        "\n",
        "AccMinX, AccMinY, AccMinZ: The minimum accelerometer readings for X, Y, and Z axes, respectively.\n",
        "\n",
        "AccMaxX, AccMaxY, AccMaxZ: The maximum accelerometer readings for X, Y, and Z axes, respectively.\n",
        "\n",
        "AccVarX, AccVarY, AccVarZ: The variance values of accelerometer readings for X, Y, and Z axes, respectively.\n",
        "\n",
        "AccMedianX, AccMedianY, AccMedianZ: The median values of accelerometer readings for X, Y, and Z axes, respectively.\n",
        "\n",
        "AccStdX, AccStdY, AccStdZ: The standard deviation values of accelerometer readings for X, Y, and Z axes, respectively."
      ],
      "metadata": {
        "id": "xDJBYlv1bhFR"
      }
    },
    {
      "cell_type": "markdown",
      "source": [
        "Attributes(gyroscope)"
      ],
      "metadata": {
        "id": "2n8qSb9Mbncy"
      }
    },
    {
      "cell_type": "markdown",
      "source": [
        "GyroMeanX, GyroMeanY, GyroMeanZ: The mean values of gyroscope readings for X, Y, and Z axes, respectively.\n",
        "\n",
        "GyroCovX, GyroCovY, GyroCovZ: The covariance values of gyroscope readings for X, Y, and Z axes, respectively.\n",
        "\n",
        "GyroSkewX, GyroSkewY, GyroSkewZ: The skewness values of gyroscope readings for X, Y, and Z axes, respectively.\n",
        "\n",
        "GyroSumX, GyroSumY, GyroSumZ: The sum of gyroscope readings for X, Y, and Z axes, respectively.\n",
        "\n",
        "GyroKurtX, GyroKurtY, GyroKurtZ: The kurtosis values of gyroscope readings for X, Y, and Z axes, respectively.\n",
        "\n",
        "GyroMinX, GyroMinY, GyroMinZ: The minimum gyroscope readings for X, Y, and Z axes, respectively.\n",
        "\n",
        "GyroMaxX, GyroMaxY, GyroMaxZ: The maximum gyroscope readings for X, Y, and Z axes, respectively.\n",
        "\n",
        "GyroVarX, GyroVarY, GyroVarZ: The variance values of gyroscope readings for X, Y, and Z axes, respectively.\n",
        "\n",
        "GyroMedianX, GyroMedianY, GyroMedianZ: The median values of gyroscope readings for X, Y, and Z axes, respectively.\n",
        "\n",
        "GyroStdX, GyroStdY, GyroStdZ: The standard deviation values of gyroscope readings for X, Y, and Z axes, respectively"
      ],
      "metadata": {
        "id": "AV68vb3ba0BQ"
      }
    },
    {
      "cell_type": "markdown",
      "source": [
        "#Imports"
      ],
      "metadata": {
        "id": "Q3LrwZEjOUlz"
      }
    },
    {
      "cell_type": "code",
      "execution_count": 1,
      "metadata": {
        "id": "sEV5OJfPFADc"
      },
      "outputs": [],
      "source": [
        "import pandas as pd\n",
        "import numpy as np\n",
        "import matplotlib.pyplot as plt\n",
        "import seaborn as sns"
      ]
    },
    {
      "cell_type": "markdown",
      "source": [
        "#EDA"
      ],
      "metadata": {
        "id": "-eRCslnAOS9e"
      }
    },
    {
      "cell_type": "markdown",
      "source": [
        "exploratory data analysis\n"
      ],
      "metadata": {
        "id": "j4OORz08yZbM"
      }
    },
    {
      "cell_type": "code",
      "source": [
        "df = pd.read_csv('/content/features_14 (1).csv')"
      ],
      "metadata": {
        "id": "FOBSpwyqFVrv"
      },
      "execution_count": 2,
      "outputs": []
    },
    {
      "cell_type": "code",
      "source": [
        "df.shape"
      ],
      "metadata": {
        "id": "ee3pOwC7lIqS",
        "colab": {
          "base_uri": "https://localhost:8080/"
        },
        "outputId": "fc1bd17f-bf60-4bec-d909-17afb7f646ce"
      },
      "execution_count": 3,
      "outputs": [
        {
          "output_type": "execute_result",
          "data": {
            "text/plain": [
              "(1102, 61)"
            ]
          },
          "metadata": {},
          "execution_count": 3
        }
      ]
    },
    {
      "cell_type": "code",
      "source": [
        "df.head(1102)"
      ],
      "metadata": {
        "id": "FS0CrkM5k5r-",
        "colab": {
          "base_uri": "https://localhost:8080/",
          "height": 487
        },
        "outputId": "e8361e44-0f4f-4270-b7dc-a2cf81d26935"
      },
      "execution_count": 4,
      "outputs": [
        {
          "output_type": "execute_result",
          "data": {
            "text/plain": [
              "      Target  AccMeanX  AccMeanY  AccMeanZ   AccCovX   AccCovY   AccCovZ  \\\n",
              "0          1  0.285339 -0.138611 -0.957764  0.022150  0.003975  0.001926   \n",
              "1          1  0.313477 -0.161670 -0.956250  0.020571  0.005640  0.001456   \n",
              "2          1  0.325195 -0.158325 -0.950155  0.017281  0.004579  0.001388   \n",
              "3          1  0.336565 -0.172468 -0.937640  0.015305  0.005216  0.002253   \n",
              "4          1  0.337860 -0.164185 -0.941681  0.013132  0.005020  0.002062   \n",
              "...      ...       ...       ...       ...       ...       ...       ...   \n",
              "1097       4  0.273228 -0.094552 -0.983939  0.055210  0.034427  0.002588   \n",
              "1098       4  0.264683 -0.092791 -0.976266  0.050594  0.033875  0.001917   \n",
              "1099       4  0.257098 -0.091030 -0.976039  0.047140  0.033445  0.001903   \n",
              "1100       4  0.257132 -0.091047 -0.978446  0.047143  0.033445  0.002054   \n",
              "1101       4  0.255580 -0.094744 -0.980190  0.047636  0.032625  0.002090   \n",
              "\n",
              "      AccSkewX  AccSkewY  AccSkewZ  ...  GyroMaxZ  GyroVarX  GyroVarY  \\\n",
              "0     0.867594 -1.305868 -0.507254  ...  0.832061  0.761120  0.184372   \n",
              "1     0.002474 -0.395088 -0.677572  ...  0.832061  3.061080  0.585991   \n",
              "2    -0.354212 -0.603657 -0.984635  ...  0.832061  3.137076  0.552431   \n",
              "3    -0.655653 -0.152454 -0.040530  ...  0.832061  2.809524  3.963056   \n",
              "4    -0.718488 -0.446061  0.250539  ...  0.832061  2.667567  3.414394   \n",
              "...        ...       ...       ...  ...       ...       ...       ...   \n",
              "1097  0.458098 -0.614773  0.529063  ...  8.893130  2.129663  1.720142   \n",
              "1098  0.479824 -0.640988  1.008758  ...  8.893130  2.051938  1.389759   \n",
              "1099  0.532820 -0.673323  1.009590  ...  8.893130  2.006199  1.378221   \n",
              "1100  0.532226 -0.672990  0.987714  ...  8.893130  2.041545  1.448443   \n",
              "1101  0.536514 -0.651531  1.084487  ...  8.893130  1.992581  1.450936   \n",
              "\n",
              "      GyroVarZ  GyroMedianX  GyroMedianY  GyroMedianZ  GyroStdX  GyroStdY  \\\n",
              "0     0.262859    -0.286260     4.251908     0.706107  0.872422  0.429385   \n",
              "1     0.270340     0.335878     3.969466     0.587786  1.749594  0.765501   \n",
              "2     0.905518    -0.286260     3.832061     0.240458  1.771179  0.743257   \n",
              "3     0.893127     0.335878     3.969466    -0.106870  1.676163  1.990743   \n",
              "4     0.799787    -0.286260     4.038168    -0.179389  1.633269  1.847808   \n",
              "...        ...          ...          ...          ...       ...       ...   \n",
              "1097  4.873553    -0.500000     4.526718     1.083969  1.459337  1.311542   \n",
              "1098  4.557117    -0.500000     4.526718     1.083969  1.432459  1.178880   \n",
              "1099  4.568735    -0.500000     4.522901     1.083969  1.416403  1.173977   \n",
              "1100  4.603264    -0.500000     4.538168     1.083969  1.428826  1.203513   \n",
              "1101  4.736066    -0.500000     4.538168     1.083969  1.411588  1.204548   \n",
              "\n",
              "      GyroStdZ  \n",
              "0     0.512697  \n",
              "1     0.519942  \n",
              "2     0.951587  \n",
              "3     0.945054  \n",
              "4     0.894308  \n",
              "...        ...  \n",
              "1097  2.207612  \n",
              "1098  2.134740  \n",
              "1099  2.137460  \n",
              "1100  2.145522  \n",
              "1101  2.176250  \n",
              "\n",
              "[1102 rows x 61 columns]"
            ],
            "text/html": [
              "\n",
              "\n",
              "  <div id=\"df-b6b942c7-8225-4024-a972-25a276194e17\">\n",
              "    <div class=\"colab-df-container\">\n",
              "      <div>\n",
              "<style scoped>\n",
              "    .dataframe tbody tr th:only-of-type {\n",
              "        vertical-align: middle;\n",
              "    }\n",
              "\n",
              "    .dataframe tbody tr th {\n",
              "        vertical-align: top;\n",
              "    }\n",
              "\n",
              "    .dataframe thead th {\n",
              "        text-align: right;\n",
              "    }\n",
              "</style>\n",
              "<table border=\"1\" class=\"dataframe\">\n",
              "  <thead>\n",
              "    <tr style=\"text-align: right;\">\n",
              "      <th></th>\n",
              "      <th>Target</th>\n",
              "      <th>AccMeanX</th>\n",
              "      <th>AccMeanY</th>\n",
              "      <th>AccMeanZ</th>\n",
              "      <th>AccCovX</th>\n",
              "      <th>AccCovY</th>\n",
              "      <th>AccCovZ</th>\n",
              "      <th>AccSkewX</th>\n",
              "      <th>AccSkewY</th>\n",
              "      <th>AccSkewZ</th>\n",
              "      <th>...</th>\n",
              "      <th>GyroMaxZ</th>\n",
              "      <th>GyroVarX</th>\n",
              "      <th>GyroVarY</th>\n",
              "      <th>GyroVarZ</th>\n",
              "      <th>GyroMedianX</th>\n",
              "      <th>GyroMedianY</th>\n",
              "      <th>GyroMedianZ</th>\n",
              "      <th>GyroStdX</th>\n",
              "      <th>GyroStdY</th>\n",
              "      <th>GyroStdZ</th>\n",
              "    </tr>\n",
              "  </thead>\n",
              "  <tbody>\n",
              "    <tr>\n",
              "      <th>0</th>\n",
              "      <td>1</td>\n",
              "      <td>0.285339</td>\n",
              "      <td>-0.138611</td>\n",
              "      <td>-0.957764</td>\n",
              "      <td>0.022150</td>\n",
              "      <td>0.003975</td>\n",
              "      <td>0.001926</td>\n",
              "      <td>0.867594</td>\n",
              "      <td>-1.305868</td>\n",
              "      <td>-0.507254</td>\n",
              "      <td>...</td>\n",
              "      <td>0.832061</td>\n",
              "      <td>0.761120</td>\n",
              "      <td>0.184372</td>\n",
              "      <td>0.262859</td>\n",
              "      <td>-0.286260</td>\n",
              "      <td>4.251908</td>\n",
              "      <td>0.706107</td>\n",
              "      <td>0.872422</td>\n",
              "      <td>0.429385</td>\n",
              "      <td>0.512697</td>\n",
              "    </tr>\n",
              "    <tr>\n",
              "      <th>1</th>\n",
              "      <td>1</td>\n",
              "      <td>0.313477</td>\n",
              "      <td>-0.161670</td>\n",
              "      <td>-0.956250</td>\n",
              "      <td>0.020571</td>\n",
              "      <td>0.005640</td>\n",
              "      <td>0.001456</td>\n",
              "      <td>0.002474</td>\n",
              "      <td>-0.395088</td>\n",
              "      <td>-0.677572</td>\n",
              "      <td>...</td>\n",
              "      <td>0.832061</td>\n",
              "      <td>3.061080</td>\n",
              "      <td>0.585991</td>\n",
              "      <td>0.270340</td>\n",
              "      <td>0.335878</td>\n",
              "      <td>3.969466</td>\n",
              "      <td>0.587786</td>\n",
              "      <td>1.749594</td>\n",
              "      <td>0.765501</td>\n",
              "      <td>0.519942</td>\n",
              "    </tr>\n",
              "    <tr>\n",
              "      <th>2</th>\n",
              "      <td>1</td>\n",
              "      <td>0.325195</td>\n",
              "      <td>-0.158325</td>\n",
              "      <td>-0.950155</td>\n",
              "      <td>0.017281</td>\n",
              "      <td>0.004579</td>\n",
              "      <td>0.001388</td>\n",
              "      <td>-0.354212</td>\n",
              "      <td>-0.603657</td>\n",
              "      <td>-0.984635</td>\n",
              "      <td>...</td>\n",
              "      <td>0.832061</td>\n",
              "      <td>3.137076</td>\n",
              "      <td>0.552431</td>\n",
              "      <td>0.905518</td>\n",
              "      <td>-0.286260</td>\n",
              "      <td>3.832061</td>\n",
              "      <td>0.240458</td>\n",
              "      <td>1.771179</td>\n",
              "      <td>0.743257</td>\n",
              "      <td>0.951587</td>\n",
              "    </tr>\n",
              "    <tr>\n",
              "      <th>3</th>\n",
              "      <td>1</td>\n",
              "      <td>0.336565</td>\n",
              "      <td>-0.172468</td>\n",
              "      <td>-0.937640</td>\n",
              "      <td>0.015305</td>\n",
              "      <td>0.005216</td>\n",
              "      <td>0.002253</td>\n",
              "      <td>-0.655653</td>\n",
              "      <td>-0.152454</td>\n",
              "      <td>-0.040530</td>\n",
              "      <td>...</td>\n",
              "      <td>0.832061</td>\n",
              "      <td>2.809524</td>\n",
              "      <td>3.963056</td>\n",
              "      <td>0.893127</td>\n",
              "      <td>0.335878</td>\n",
              "      <td>3.969466</td>\n",
              "      <td>-0.106870</td>\n",
              "      <td>1.676163</td>\n",
              "      <td>1.990743</td>\n",
              "      <td>0.945054</td>\n",
              "    </tr>\n",
              "    <tr>\n",
              "      <th>4</th>\n",
              "      <td>1</td>\n",
              "      <td>0.337860</td>\n",
              "      <td>-0.164185</td>\n",
              "      <td>-0.941681</td>\n",
              "      <td>0.013132</td>\n",
              "      <td>0.005020</td>\n",
              "      <td>0.002062</td>\n",
              "      <td>-0.718488</td>\n",
              "      <td>-0.446061</td>\n",
              "      <td>0.250539</td>\n",
              "      <td>...</td>\n",
              "      <td>0.832061</td>\n",
              "      <td>2.667567</td>\n",
              "      <td>3.414394</td>\n",
              "      <td>0.799787</td>\n",
              "      <td>-0.286260</td>\n",
              "      <td>4.038168</td>\n",
              "      <td>-0.179389</td>\n",
              "      <td>1.633269</td>\n",
              "      <td>1.847808</td>\n",
              "      <td>0.894308</td>\n",
              "    </tr>\n",
              "    <tr>\n",
              "      <th>...</th>\n",
              "      <td>...</td>\n",
              "      <td>...</td>\n",
              "      <td>...</td>\n",
              "      <td>...</td>\n",
              "      <td>...</td>\n",
              "      <td>...</td>\n",
              "      <td>...</td>\n",
              "      <td>...</td>\n",
              "      <td>...</td>\n",
              "      <td>...</td>\n",
              "      <td>...</td>\n",
              "      <td>...</td>\n",
              "      <td>...</td>\n",
              "      <td>...</td>\n",
              "      <td>...</td>\n",
              "      <td>...</td>\n",
              "      <td>...</td>\n",
              "      <td>...</td>\n",
              "      <td>...</td>\n",
              "      <td>...</td>\n",
              "      <td>...</td>\n",
              "    </tr>\n",
              "    <tr>\n",
              "      <th>1097</th>\n",
              "      <td>4</td>\n",
              "      <td>0.273228</td>\n",
              "      <td>-0.094552</td>\n",
              "      <td>-0.983939</td>\n",
              "      <td>0.055210</td>\n",
              "      <td>0.034427</td>\n",
              "      <td>0.002588</td>\n",
              "      <td>0.458098</td>\n",
              "      <td>-0.614773</td>\n",
              "      <td>0.529063</td>\n",
              "      <td>...</td>\n",
              "      <td>8.893130</td>\n",
              "      <td>2.129663</td>\n",
              "      <td>1.720142</td>\n",
              "      <td>4.873553</td>\n",
              "      <td>-0.500000</td>\n",
              "      <td>4.526718</td>\n",
              "      <td>1.083969</td>\n",
              "      <td>1.459337</td>\n",
              "      <td>1.311542</td>\n",
              "      <td>2.207612</td>\n",
              "    </tr>\n",
              "    <tr>\n",
              "      <th>1098</th>\n",
              "      <td>4</td>\n",
              "      <td>0.264683</td>\n",
              "      <td>-0.092791</td>\n",
              "      <td>-0.976266</td>\n",
              "      <td>0.050594</td>\n",
              "      <td>0.033875</td>\n",
              "      <td>0.001917</td>\n",
              "      <td>0.479824</td>\n",
              "      <td>-0.640988</td>\n",
              "      <td>1.008758</td>\n",
              "      <td>...</td>\n",
              "      <td>8.893130</td>\n",
              "      <td>2.051938</td>\n",
              "      <td>1.389759</td>\n",
              "      <td>4.557117</td>\n",
              "      <td>-0.500000</td>\n",
              "      <td>4.526718</td>\n",
              "      <td>1.083969</td>\n",
              "      <td>1.432459</td>\n",
              "      <td>1.178880</td>\n",
              "      <td>2.134740</td>\n",
              "    </tr>\n",
              "    <tr>\n",
              "      <th>1099</th>\n",
              "      <td>4</td>\n",
              "      <td>0.257098</td>\n",
              "      <td>-0.091030</td>\n",
              "      <td>-0.976039</td>\n",
              "      <td>0.047140</td>\n",
              "      <td>0.033445</td>\n",
              "      <td>0.001903</td>\n",
              "      <td>0.532820</td>\n",
              "      <td>-0.673323</td>\n",
              "      <td>1.009590</td>\n",
              "      <td>...</td>\n",
              "      <td>8.893130</td>\n",
              "      <td>2.006199</td>\n",
              "      <td>1.378221</td>\n",
              "      <td>4.568735</td>\n",
              "      <td>-0.500000</td>\n",
              "      <td>4.522901</td>\n",
              "      <td>1.083969</td>\n",
              "      <td>1.416403</td>\n",
              "      <td>1.173977</td>\n",
              "      <td>2.137460</td>\n",
              "    </tr>\n",
              "    <tr>\n",
              "      <th>1100</th>\n",
              "      <td>4</td>\n",
              "      <td>0.257132</td>\n",
              "      <td>-0.091047</td>\n",
              "      <td>-0.978446</td>\n",
              "      <td>0.047143</td>\n",
              "      <td>0.033445</td>\n",
              "      <td>0.002054</td>\n",
              "      <td>0.532226</td>\n",
              "      <td>-0.672990</td>\n",
              "      <td>0.987714</td>\n",
              "      <td>...</td>\n",
              "      <td>8.893130</td>\n",
              "      <td>2.041545</td>\n",
              "      <td>1.448443</td>\n",
              "      <td>4.603264</td>\n",
              "      <td>-0.500000</td>\n",
              "      <td>4.538168</td>\n",
              "      <td>1.083969</td>\n",
              "      <td>1.428826</td>\n",
              "      <td>1.203513</td>\n",
              "      <td>2.145522</td>\n",
              "    </tr>\n",
              "    <tr>\n",
              "      <th>1101</th>\n",
              "      <td>4</td>\n",
              "      <td>0.255580</td>\n",
              "      <td>-0.094744</td>\n",
              "      <td>-0.980190</td>\n",
              "      <td>0.047636</td>\n",
              "      <td>0.032625</td>\n",
              "      <td>0.002090</td>\n",
              "      <td>0.536514</td>\n",
              "      <td>-0.651531</td>\n",
              "      <td>1.084487</td>\n",
              "      <td>...</td>\n",
              "      <td>8.893130</td>\n",
              "      <td>1.992581</td>\n",
              "      <td>1.450936</td>\n",
              "      <td>4.736066</td>\n",
              "      <td>-0.500000</td>\n",
              "      <td>4.538168</td>\n",
              "      <td>1.083969</td>\n",
              "      <td>1.411588</td>\n",
              "      <td>1.204548</td>\n",
              "      <td>2.176250</td>\n",
              "    </tr>\n",
              "  </tbody>\n",
              "</table>\n",
              "<p>1102 rows × 61 columns</p>\n",
              "</div>\n",
              "      <button class=\"colab-df-convert\" onclick=\"convertToInteractive('df-b6b942c7-8225-4024-a972-25a276194e17')\"\n",
              "              title=\"Convert this dataframe to an interactive table.\"\n",
              "              style=\"display:none;\">\n",
              "\n",
              "  <svg xmlns=\"http://www.w3.org/2000/svg\" height=\"24px\"viewBox=\"0 0 24 24\"\n",
              "       width=\"24px\">\n",
              "    <path d=\"M0 0h24v24H0V0z\" fill=\"none\"/>\n",
              "    <path d=\"M18.56 5.44l.94 2.06.94-2.06 2.06-.94-2.06-.94-.94-2.06-.94 2.06-2.06.94zm-11 1L8.5 8.5l.94-2.06 2.06-.94-2.06-.94L8.5 2.5l-.94 2.06-2.06.94zm10 10l.94 2.06.94-2.06 2.06-.94-2.06-.94-.94-2.06-.94 2.06-2.06.94z\"/><path d=\"M17.41 7.96l-1.37-1.37c-.4-.4-.92-.59-1.43-.59-.52 0-1.04.2-1.43.59L10.3 9.45l-7.72 7.72c-.78.78-.78 2.05 0 2.83L4 21.41c.39.39.9.59 1.41.59.51 0 1.02-.2 1.41-.59l7.78-7.78 2.81-2.81c.8-.78.8-2.07 0-2.86zM5.41 20L4 18.59l7.72-7.72 1.47 1.35L5.41 20z\"/>\n",
              "  </svg>\n",
              "      </button>\n",
              "\n",
              "\n",
              "\n",
              "    <div id=\"df-7981c66f-2ca4-4a3c-8914-408974059153\">\n",
              "      <button class=\"colab-df-quickchart\" onclick=\"quickchart('df-7981c66f-2ca4-4a3c-8914-408974059153')\"\n",
              "              title=\"Suggest charts.\"\n",
              "              style=\"display:none;\">\n",
              "\n",
              "<svg xmlns=\"http://www.w3.org/2000/svg\" height=\"24px\"viewBox=\"0 0 24 24\"\n",
              "     width=\"24px\">\n",
              "    <g>\n",
              "        <path d=\"M19 3H5c-1.1 0-2 .9-2 2v14c0 1.1.9 2 2 2h14c1.1 0 2-.9 2-2V5c0-1.1-.9-2-2-2zM9 17H7v-7h2v7zm4 0h-2V7h2v10zm4 0h-2v-4h2v4z\"/>\n",
              "    </g>\n",
              "</svg>\n",
              "      </button>\n",
              "    </div>\n",
              "\n",
              "<style>\n",
              "  .colab-df-quickchart {\n",
              "    background-color: #E8F0FE;\n",
              "    border: none;\n",
              "    border-radius: 50%;\n",
              "    cursor: pointer;\n",
              "    display: none;\n",
              "    fill: #1967D2;\n",
              "    height: 32px;\n",
              "    padding: 0 0 0 0;\n",
              "    width: 32px;\n",
              "  }\n",
              "\n",
              "  .colab-df-quickchart:hover {\n",
              "    background-color: #E2EBFA;\n",
              "    box-shadow: 0px 1px 2px rgba(60, 64, 67, 0.3), 0px 1px 3px 1px rgba(60, 64, 67, 0.15);\n",
              "    fill: #174EA6;\n",
              "  }\n",
              "\n",
              "  [theme=dark] .colab-df-quickchart {\n",
              "    background-color: #3B4455;\n",
              "    fill: #D2E3FC;\n",
              "  }\n",
              "\n",
              "  [theme=dark] .colab-df-quickchart:hover {\n",
              "    background-color: #434B5C;\n",
              "    box-shadow: 0px 1px 3px 1px rgba(0, 0, 0, 0.15);\n",
              "    filter: drop-shadow(0px 1px 2px rgba(0, 0, 0, 0.3));\n",
              "    fill: #FFFFFF;\n",
              "  }\n",
              "</style>\n",
              "\n",
              "    <script>\n",
              "      async function quickchart(key) {\n",
              "        const containerElement = document.querySelector('#' + key);\n",
              "        const charts = await google.colab.kernel.invokeFunction(\n",
              "            'suggestCharts', [key], {});\n",
              "      }\n",
              "    </script>\n",
              "\n",
              "      <script>\n",
              "\n",
              "function displayQuickchartButton(domScope) {\n",
              "  let quickchartButtonEl =\n",
              "    domScope.querySelector('#df-7981c66f-2ca4-4a3c-8914-408974059153 button.colab-df-quickchart');\n",
              "  quickchartButtonEl.style.display =\n",
              "    google.colab.kernel.accessAllowed ? 'block' : 'none';\n",
              "}\n",
              "\n",
              "        displayQuickchartButton(document);\n",
              "      </script>\n",
              "      <style>\n",
              "    .colab-df-container {\n",
              "      display:flex;\n",
              "      flex-wrap:wrap;\n",
              "      gap: 12px;\n",
              "    }\n",
              "\n",
              "    .colab-df-convert {\n",
              "      background-color: #E8F0FE;\n",
              "      border: none;\n",
              "      border-radius: 50%;\n",
              "      cursor: pointer;\n",
              "      display: none;\n",
              "      fill: #1967D2;\n",
              "      height: 32px;\n",
              "      padding: 0 0 0 0;\n",
              "      width: 32px;\n",
              "    }\n",
              "\n",
              "    .colab-df-convert:hover {\n",
              "      background-color: #E2EBFA;\n",
              "      box-shadow: 0px 1px 2px rgba(60, 64, 67, 0.3), 0px 1px 3px 1px rgba(60, 64, 67, 0.15);\n",
              "      fill: #174EA6;\n",
              "    }\n",
              "\n",
              "    [theme=dark] .colab-df-convert {\n",
              "      background-color: #3B4455;\n",
              "      fill: #D2E3FC;\n",
              "    }\n",
              "\n",
              "    [theme=dark] .colab-df-convert:hover {\n",
              "      background-color: #434B5C;\n",
              "      box-shadow: 0px 1px 3px 1px rgba(0, 0, 0, 0.15);\n",
              "      filter: drop-shadow(0px 1px 2px rgba(0, 0, 0, 0.3));\n",
              "      fill: #FFFFFF;\n",
              "    }\n",
              "  </style>\n",
              "\n",
              "      <script>\n",
              "        const buttonEl =\n",
              "          document.querySelector('#df-b6b942c7-8225-4024-a972-25a276194e17 button.colab-df-convert');\n",
              "        buttonEl.style.display =\n",
              "          google.colab.kernel.accessAllowed ? 'block' : 'none';\n",
              "\n",
              "        async function convertToInteractive(key) {\n",
              "          const element = document.querySelector('#df-b6b942c7-8225-4024-a972-25a276194e17');\n",
              "          const dataTable =\n",
              "            await google.colab.kernel.invokeFunction('convertToInteractive',\n",
              "                                                     [key], {});\n",
              "          if (!dataTable) return;\n",
              "\n",
              "          const docLinkHtml = 'Like what you see? Visit the ' +\n",
              "            '<a target=\"_blank\" href=https://colab.research.google.com/notebooks/data_table.ipynb>data table notebook</a>'\n",
              "            + ' to learn more about interactive tables.';\n",
              "          element.innerHTML = '';\n",
              "          dataTable['output_type'] = 'display_data';\n",
              "          await google.colab.output.renderOutput(dataTable, element);\n",
              "          const docLink = document.createElement('div');\n",
              "          docLink.innerHTML = docLinkHtml;\n",
              "          element.appendChild(docLink);\n",
              "        }\n",
              "      </script>\n",
              "    </div>\n",
              "  </div>\n"
            ]
          },
          "metadata": {},
          "execution_count": 4
        }
      ]
    },
    {
      "cell_type": "code",
      "source": [
        "df.columns"
      ],
      "metadata": {
        "id": "5RAviRnqFeym",
        "colab": {
          "base_uri": "https://localhost:8080/"
        },
        "outputId": "9c954830-9cb2-4dfc-dea4-f0a08d45e99c"
      },
      "execution_count": 5,
      "outputs": [
        {
          "output_type": "execute_result",
          "data": {
            "text/plain": [
              "Index(['Target', 'AccMeanX', 'AccMeanY', 'AccMeanZ', 'AccCovX', 'AccCovY',\n",
              "       'AccCovZ', 'AccSkewX', 'AccSkewY', 'AccSkewZ', 'AccKurtX', 'AccKurtY',\n",
              "       'AccKurtZ', 'AccSumX', 'AccSumY', 'AccSumZ', 'AccMinX', 'AccMinY',\n",
              "       'AccMinZ', 'AccMaxX', 'AccMaxY', 'AccMaxZ', 'AccVarX', 'AccVarY',\n",
              "       'AccVarZ', 'AccMedianX', 'AccMedianY', 'AccMedianZ', 'AccStdX',\n",
              "       'AccStdY', 'AccStdZ', 'GyroMeanX', 'GyroMeanY', 'GyroMeanZ', 'GyroCovX',\n",
              "       'GyroCovY', 'GyroCovZ', 'GyroSkewX', 'GyroSkewY', 'GyroSkewZ',\n",
              "       'GyroSumX', 'GyroSumY', 'GyroSumZ', 'GyroKurtX', 'GyroKurtY',\n",
              "       'GyroKurtZ', 'GyroMinX', 'GyroMinY', 'GyroMinZ', 'GyroMaxX', 'GyroMaxY',\n",
              "       'GyroMaxZ', 'GyroVarX', 'GyroVarY', 'GyroVarZ', 'GyroMedianX',\n",
              "       'GyroMedianY', 'GyroMedianZ', 'GyroStdX', 'GyroStdY', 'GyroStdZ'],\n",
              "      dtype='object')"
            ]
          },
          "metadata": {},
          "execution_count": 5
        }
      ]
    },
    {
      "cell_type": "markdown",
      "source": [
        "#Data Cleaning"
      ],
      "metadata": {
        "id": "miEeTS1zGNzT"
      }
    },
    {
      "cell_type": "code",
      "source": [
        "df.isnull().sum()"
      ],
      "metadata": {
        "id": "z8SK7Ag-Ff1h",
        "colab": {
          "base_uri": "https://localhost:8080/"
        },
        "outputId": "1be75655-0c1a-4194-cd07-dea081a5ea74"
      },
      "execution_count": 6,
      "outputs": [
        {
          "output_type": "execute_result",
          "data": {
            "text/plain": [
              "Target         0\n",
              "AccMeanX       0\n",
              "AccMeanY       0\n",
              "AccMeanZ       0\n",
              "AccCovX        0\n",
              "              ..\n",
              "GyroMedianY    0\n",
              "GyroMedianZ    0\n",
              "GyroStdX       0\n",
              "GyroStdY       0\n",
              "GyroStdZ       0\n",
              "Length: 61, dtype: int64"
            ]
          },
          "metadata": {},
          "execution_count": 6
        }
      ]
    },
    {
      "cell_type": "markdown",
      "source": [
        "#Data Visualization"
      ],
      "metadata": {
        "id": "Xt5lsE7YGKES"
      }
    },
    {
      "cell_type": "code",
      "source": [
        "cor = df.corr()\n",
        "cor"
      ],
      "metadata": {
        "id": "JM_GrcY9Fs1j",
        "colab": {
          "base_uri": "https://localhost:8080/",
          "height": 487
        },
        "outputId": "d8fe2b83-ad46-4116-8df7-faabfaa28944"
      },
      "execution_count": 7,
      "outputs": [
        {
          "output_type": "execute_result",
          "data": {
            "text/plain": [
              "               Target  AccMeanX  AccMeanY  AccMeanZ   AccCovX   AccCovY  \\\n",
              "Target       1.000000 -0.050351  0.454897 -0.149323  0.332083  0.354118   \n",
              "AccMeanX    -0.050351  1.000000  0.000464  0.019007  0.295835 -0.086974   \n",
              "AccMeanY     0.454897  0.000464  1.000000 -0.038266 -0.300992  0.322535   \n",
              "AccMeanZ    -0.149323  0.019007 -0.038266  1.000000 -0.227914 -0.035367   \n",
              "AccCovX      0.332083  0.295835 -0.300992 -0.227914  1.000000 -0.027147   \n",
              "...               ...       ...       ...       ...       ...       ...   \n",
              "GyroMedianY  0.235868  0.186380  0.235601 -0.266240  0.208065 -0.169732   \n",
              "GyroMedianZ  0.177255  0.127370  0.503934  0.065430 -0.158135  0.225721   \n",
              "GyroStdX    -0.250925 -0.197712 -0.024426  0.177710 -0.227446  0.367595   \n",
              "GyroStdY    -0.268754 -0.275089  0.011084  0.082224 -0.273686  0.458477   \n",
              "GyroStdZ    -0.039703 -0.414629  0.015244  0.102032 -0.380757  0.734142   \n",
              "\n",
              "              AccCovZ  AccSkewX  AccSkewY  AccSkewZ  ...  GyroMaxZ  GyroVarX  \\\n",
              "Target      -0.361210  0.208813  0.185366 -0.014248  ...  0.265730 -0.227489   \n",
              "AccMeanX     0.091896 -0.100209  0.317319  0.161508  ...  0.041536 -0.225000   \n",
              "AccMeanY     0.103885  0.258980  0.634430  0.042261  ...  0.744737 -0.002182   \n",
              "AccMeanZ     0.064103 -0.047834  0.037521  0.270917  ...  0.068620  0.195224   \n",
              "AccCovX     -0.229094 -0.019000 -0.158981 -0.031341  ... -0.421568 -0.229443   \n",
              "...               ...       ...       ...       ...  ...       ...       ...   \n",
              "GyroMedianY -0.129585  0.244902  0.100126  0.010109  ... -0.032911 -0.194798   \n",
              "GyroMedianZ  0.119271 -0.049993  0.302291 -0.020547  ...  0.429536 -0.043477   \n",
              "GyroStdX     0.428789 -0.208131  0.025525 -0.077660  ...  0.318645  0.974448   \n",
              "GyroStdY     0.374578 -0.283297  0.021853 -0.047749  ...  0.321990  0.511790   \n",
              "GyroStdZ     0.211317 -0.424704 -0.027756 -0.173540  ...  0.543076  0.517773   \n",
              "\n",
              "             GyroVarY  GyroVarZ  GyroMedianX  GyroMedianY  GyroMedianZ  \\\n",
              "Target      -0.195037 -0.030372    -0.096142     0.235868     0.177255   \n",
              "AccMeanX    -0.285706 -0.423218    -0.157636     0.186380     0.127370   \n",
              "AccMeanY     0.028228 -0.030592    -0.484922     0.235601     0.503934   \n",
              "AccMeanZ     0.071102  0.089282     0.001422    -0.266240     0.065430   \n",
              "AccCovX     -0.231391 -0.337640     0.271046     0.208065    -0.158135   \n",
              "...               ...       ...          ...          ...          ...   \n",
              "GyroMedianY -0.288825 -0.367303    -0.129468     1.000000     0.215792   \n",
              "GyroMedianZ -0.018383  0.043481    -0.391248     0.215792     1.000000   \n",
              "GyroStdX     0.515103  0.550869    -0.122092    -0.197412    -0.015124   \n",
              "GyroStdY     0.976059  0.614265    -0.090476    -0.292734    -0.008164   \n",
              "GyroStdZ     0.585512  0.988205    -0.179125    -0.353927     0.080000   \n",
              "\n",
              "             GyroStdX  GyroStdY  GyroStdZ  \n",
              "Target      -0.250925 -0.268754 -0.039703  \n",
              "AccMeanX    -0.197712 -0.275089 -0.414629  \n",
              "AccMeanY    -0.024426  0.011084  0.015244  \n",
              "AccMeanZ     0.177710  0.082224  0.102032  \n",
              "AccCovX     -0.227446 -0.273686 -0.380757  \n",
              "...               ...       ...       ...  \n",
              "GyroMedianY -0.197412 -0.292734 -0.353927  \n",
              "GyroMedianZ -0.015124 -0.008164  0.080000  \n",
              "GyroStdX     1.000000  0.580766  0.564112  \n",
              "GyroStdY     0.580766  1.000000  0.619812  \n",
              "GyroStdZ     0.564112  0.619812  1.000000  \n",
              "\n",
              "[61 rows x 61 columns]"
            ],
            "text/html": [
              "\n",
              "\n",
              "  <div id=\"df-a0604784-aee7-4a93-a4e7-6635a7c5e5fd\">\n",
              "    <div class=\"colab-df-container\">\n",
              "      <div>\n",
              "<style scoped>\n",
              "    .dataframe tbody tr th:only-of-type {\n",
              "        vertical-align: middle;\n",
              "    }\n",
              "\n",
              "    .dataframe tbody tr th {\n",
              "        vertical-align: top;\n",
              "    }\n",
              "\n",
              "    .dataframe thead th {\n",
              "        text-align: right;\n",
              "    }\n",
              "</style>\n",
              "<table border=\"1\" class=\"dataframe\">\n",
              "  <thead>\n",
              "    <tr style=\"text-align: right;\">\n",
              "      <th></th>\n",
              "      <th>Target</th>\n",
              "      <th>AccMeanX</th>\n",
              "      <th>AccMeanY</th>\n",
              "      <th>AccMeanZ</th>\n",
              "      <th>AccCovX</th>\n",
              "      <th>AccCovY</th>\n",
              "      <th>AccCovZ</th>\n",
              "      <th>AccSkewX</th>\n",
              "      <th>AccSkewY</th>\n",
              "      <th>AccSkewZ</th>\n",
              "      <th>...</th>\n",
              "      <th>GyroMaxZ</th>\n",
              "      <th>GyroVarX</th>\n",
              "      <th>GyroVarY</th>\n",
              "      <th>GyroVarZ</th>\n",
              "      <th>GyroMedianX</th>\n",
              "      <th>GyroMedianY</th>\n",
              "      <th>GyroMedianZ</th>\n",
              "      <th>GyroStdX</th>\n",
              "      <th>GyroStdY</th>\n",
              "      <th>GyroStdZ</th>\n",
              "    </tr>\n",
              "  </thead>\n",
              "  <tbody>\n",
              "    <tr>\n",
              "      <th>Target</th>\n",
              "      <td>1.000000</td>\n",
              "      <td>-0.050351</td>\n",
              "      <td>0.454897</td>\n",
              "      <td>-0.149323</td>\n",
              "      <td>0.332083</td>\n",
              "      <td>0.354118</td>\n",
              "      <td>-0.361210</td>\n",
              "      <td>0.208813</td>\n",
              "      <td>0.185366</td>\n",
              "      <td>-0.014248</td>\n",
              "      <td>...</td>\n",
              "      <td>0.265730</td>\n",
              "      <td>-0.227489</td>\n",
              "      <td>-0.195037</td>\n",
              "      <td>-0.030372</td>\n",
              "      <td>-0.096142</td>\n",
              "      <td>0.235868</td>\n",
              "      <td>0.177255</td>\n",
              "      <td>-0.250925</td>\n",
              "      <td>-0.268754</td>\n",
              "      <td>-0.039703</td>\n",
              "    </tr>\n",
              "    <tr>\n",
              "      <th>AccMeanX</th>\n",
              "      <td>-0.050351</td>\n",
              "      <td>1.000000</td>\n",
              "      <td>0.000464</td>\n",
              "      <td>0.019007</td>\n",
              "      <td>0.295835</td>\n",
              "      <td>-0.086974</td>\n",
              "      <td>0.091896</td>\n",
              "      <td>-0.100209</td>\n",
              "      <td>0.317319</td>\n",
              "      <td>0.161508</td>\n",
              "      <td>...</td>\n",
              "      <td>0.041536</td>\n",
              "      <td>-0.225000</td>\n",
              "      <td>-0.285706</td>\n",
              "      <td>-0.423218</td>\n",
              "      <td>-0.157636</td>\n",
              "      <td>0.186380</td>\n",
              "      <td>0.127370</td>\n",
              "      <td>-0.197712</td>\n",
              "      <td>-0.275089</td>\n",
              "      <td>-0.414629</td>\n",
              "    </tr>\n",
              "    <tr>\n",
              "      <th>AccMeanY</th>\n",
              "      <td>0.454897</td>\n",
              "      <td>0.000464</td>\n",
              "      <td>1.000000</td>\n",
              "      <td>-0.038266</td>\n",
              "      <td>-0.300992</td>\n",
              "      <td>0.322535</td>\n",
              "      <td>0.103885</td>\n",
              "      <td>0.258980</td>\n",
              "      <td>0.634430</td>\n",
              "      <td>0.042261</td>\n",
              "      <td>...</td>\n",
              "      <td>0.744737</td>\n",
              "      <td>-0.002182</td>\n",
              "      <td>0.028228</td>\n",
              "      <td>-0.030592</td>\n",
              "      <td>-0.484922</td>\n",
              "      <td>0.235601</td>\n",
              "      <td>0.503934</td>\n",
              "      <td>-0.024426</td>\n",
              "      <td>0.011084</td>\n",
              "      <td>0.015244</td>\n",
              "    </tr>\n",
              "    <tr>\n",
              "      <th>AccMeanZ</th>\n",
              "      <td>-0.149323</td>\n",
              "      <td>0.019007</td>\n",
              "      <td>-0.038266</td>\n",
              "      <td>1.000000</td>\n",
              "      <td>-0.227914</td>\n",
              "      <td>-0.035367</td>\n",
              "      <td>0.064103</td>\n",
              "      <td>-0.047834</td>\n",
              "      <td>0.037521</td>\n",
              "      <td>0.270917</td>\n",
              "      <td>...</td>\n",
              "      <td>0.068620</td>\n",
              "      <td>0.195224</td>\n",
              "      <td>0.071102</td>\n",
              "      <td>0.089282</td>\n",
              "      <td>0.001422</td>\n",
              "      <td>-0.266240</td>\n",
              "      <td>0.065430</td>\n",
              "      <td>0.177710</td>\n",
              "      <td>0.082224</td>\n",
              "      <td>0.102032</td>\n",
              "    </tr>\n",
              "    <tr>\n",
              "      <th>AccCovX</th>\n",
              "      <td>0.332083</td>\n",
              "      <td>0.295835</td>\n",
              "      <td>-0.300992</td>\n",
              "      <td>-0.227914</td>\n",
              "      <td>1.000000</td>\n",
              "      <td>-0.027147</td>\n",
              "      <td>-0.229094</td>\n",
              "      <td>-0.019000</td>\n",
              "      <td>-0.158981</td>\n",
              "      <td>-0.031341</td>\n",
              "      <td>...</td>\n",
              "      <td>-0.421568</td>\n",
              "      <td>-0.229443</td>\n",
              "      <td>-0.231391</td>\n",
              "      <td>-0.337640</td>\n",
              "      <td>0.271046</td>\n",
              "      <td>0.208065</td>\n",
              "      <td>-0.158135</td>\n",
              "      <td>-0.227446</td>\n",
              "      <td>-0.273686</td>\n",
              "      <td>-0.380757</td>\n",
              "    </tr>\n",
              "    <tr>\n",
              "      <th>...</th>\n",
              "      <td>...</td>\n",
              "      <td>...</td>\n",
              "      <td>...</td>\n",
              "      <td>...</td>\n",
              "      <td>...</td>\n",
              "      <td>...</td>\n",
              "      <td>...</td>\n",
              "      <td>...</td>\n",
              "      <td>...</td>\n",
              "      <td>...</td>\n",
              "      <td>...</td>\n",
              "      <td>...</td>\n",
              "      <td>...</td>\n",
              "      <td>...</td>\n",
              "      <td>...</td>\n",
              "      <td>...</td>\n",
              "      <td>...</td>\n",
              "      <td>...</td>\n",
              "      <td>...</td>\n",
              "      <td>...</td>\n",
              "      <td>...</td>\n",
              "    </tr>\n",
              "    <tr>\n",
              "      <th>GyroMedianY</th>\n",
              "      <td>0.235868</td>\n",
              "      <td>0.186380</td>\n",
              "      <td>0.235601</td>\n",
              "      <td>-0.266240</td>\n",
              "      <td>0.208065</td>\n",
              "      <td>-0.169732</td>\n",
              "      <td>-0.129585</td>\n",
              "      <td>0.244902</td>\n",
              "      <td>0.100126</td>\n",
              "      <td>0.010109</td>\n",
              "      <td>...</td>\n",
              "      <td>-0.032911</td>\n",
              "      <td>-0.194798</td>\n",
              "      <td>-0.288825</td>\n",
              "      <td>-0.367303</td>\n",
              "      <td>-0.129468</td>\n",
              "      <td>1.000000</td>\n",
              "      <td>0.215792</td>\n",
              "      <td>-0.197412</td>\n",
              "      <td>-0.292734</td>\n",
              "      <td>-0.353927</td>\n",
              "    </tr>\n",
              "    <tr>\n",
              "      <th>GyroMedianZ</th>\n",
              "      <td>0.177255</td>\n",
              "      <td>0.127370</td>\n",
              "      <td>0.503934</td>\n",
              "      <td>0.065430</td>\n",
              "      <td>-0.158135</td>\n",
              "      <td>0.225721</td>\n",
              "      <td>0.119271</td>\n",
              "      <td>-0.049993</td>\n",
              "      <td>0.302291</td>\n",
              "      <td>-0.020547</td>\n",
              "      <td>...</td>\n",
              "      <td>0.429536</td>\n",
              "      <td>-0.043477</td>\n",
              "      <td>-0.018383</td>\n",
              "      <td>0.043481</td>\n",
              "      <td>-0.391248</td>\n",
              "      <td>0.215792</td>\n",
              "      <td>1.000000</td>\n",
              "      <td>-0.015124</td>\n",
              "      <td>-0.008164</td>\n",
              "      <td>0.080000</td>\n",
              "    </tr>\n",
              "    <tr>\n",
              "      <th>GyroStdX</th>\n",
              "      <td>-0.250925</td>\n",
              "      <td>-0.197712</td>\n",
              "      <td>-0.024426</td>\n",
              "      <td>0.177710</td>\n",
              "      <td>-0.227446</td>\n",
              "      <td>0.367595</td>\n",
              "      <td>0.428789</td>\n",
              "      <td>-0.208131</td>\n",
              "      <td>0.025525</td>\n",
              "      <td>-0.077660</td>\n",
              "      <td>...</td>\n",
              "      <td>0.318645</td>\n",
              "      <td>0.974448</td>\n",
              "      <td>0.515103</td>\n",
              "      <td>0.550869</td>\n",
              "      <td>-0.122092</td>\n",
              "      <td>-0.197412</td>\n",
              "      <td>-0.015124</td>\n",
              "      <td>1.000000</td>\n",
              "      <td>0.580766</td>\n",
              "      <td>0.564112</td>\n",
              "    </tr>\n",
              "    <tr>\n",
              "      <th>GyroStdY</th>\n",
              "      <td>-0.268754</td>\n",
              "      <td>-0.275089</td>\n",
              "      <td>0.011084</td>\n",
              "      <td>0.082224</td>\n",
              "      <td>-0.273686</td>\n",
              "      <td>0.458477</td>\n",
              "      <td>0.374578</td>\n",
              "      <td>-0.283297</td>\n",
              "      <td>0.021853</td>\n",
              "      <td>-0.047749</td>\n",
              "      <td>...</td>\n",
              "      <td>0.321990</td>\n",
              "      <td>0.511790</td>\n",
              "      <td>0.976059</td>\n",
              "      <td>0.614265</td>\n",
              "      <td>-0.090476</td>\n",
              "      <td>-0.292734</td>\n",
              "      <td>-0.008164</td>\n",
              "      <td>0.580766</td>\n",
              "      <td>1.000000</td>\n",
              "      <td>0.619812</td>\n",
              "    </tr>\n",
              "    <tr>\n",
              "      <th>GyroStdZ</th>\n",
              "      <td>-0.039703</td>\n",
              "      <td>-0.414629</td>\n",
              "      <td>0.015244</td>\n",
              "      <td>0.102032</td>\n",
              "      <td>-0.380757</td>\n",
              "      <td>0.734142</td>\n",
              "      <td>0.211317</td>\n",
              "      <td>-0.424704</td>\n",
              "      <td>-0.027756</td>\n",
              "      <td>-0.173540</td>\n",
              "      <td>...</td>\n",
              "      <td>0.543076</td>\n",
              "      <td>0.517773</td>\n",
              "      <td>0.585512</td>\n",
              "      <td>0.988205</td>\n",
              "      <td>-0.179125</td>\n",
              "      <td>-0.353927</td>\n",
              "      <td>0.080000</td>\n",
              "      <td>0.564112</td>\n",
              "      <td>0.619812</td>\n",
              "      <td>1.000000</td>\n",
              "    </tr>\n",
              "  </tbody>\n",
              "</table>\n",
              "<p>61 rows × 61 columns</p>\n",
              "</div>\n",
              "      <button class=\"colab-df-convert\" onclick=\"convertToInteractive('df-a0604784-aee7-4a93-a4e7-6635a7c5e5fd')\"\n",
              "              title=\"Convert this dataframe to an interactive table.\"\n",
              "              style=\"display:none;\">\n",
              "\n",
              "  <svg xmlns=\"http://www.w3.org/2000/svg\" height=\"24px\"viewBox=\"0 0 24 24\"\n",
              "       width=\"24px\">\n",
              "    <path d=\"M0 0h24v24H0V0z\" fill=\"none\"/>\n",
              "    <path d=\"M18.56 5.44l.94 2.06.94-2.06 2.06-.94-2.06-.94-.94-2.06-.94 2.06-2.06.94zm-11 1L8.5 8.5l.94-2.06 2.06-.94-2.06-.94L8.5 2.5l-.94 2.06-2.06.94zm10 10l.94 2.06.94-2.06 2.06-.94-2.06-.94-.94-2.06-.94 2.06-2.06.94z\"/><path d=\"M17.41 7.96l-1.37-1.37c-.4-.4-.92-.59-1.43-.59-.52 0-1.04.2-1.43.59L10.3 9.45l-7.72 7.72c-.78.78-.78 2.05 0 2.83L4 21.41c.39.39.9.59 1.41.59.51 0 1.02-.2 1.41-.59l7.78-7.78 2.81-2.81c.8-.78.8-2.07 0-2.86zM5.41 20L4 18.59l7.72-7.72 1.47 1.35L5.41 20z\"/>\n",
              "  </svg>\n",
              "      </button>\n",
              "\n",
              "\n",
              "\n",
              "    <div id=\"df-b0a06cfc-0db5-46e6-a98b-c9e99dc67691\">\n",
              "      <button class=\"colab-df-quickchart\" onclick=\"quickchart('df-b0a06cfc-0db5-46e6-a98b-c9e99dc67691')\"\n",
              "              title=\"Suggest charts.\"\n",
              "              style=\"display:none;\">\n",
              "\n",
              "<svg xmlns=\"http://www.w3.org/2000/svg\" height=\"24px\"viewBox=\"0 0 24 24\"\n",
              "     width=\"24px\">\n",
              "    <g>\n",
              "        <path d=\"M19 3H5c-1.1 0-2 .9-2 2v14c0 1.1.9 2 2 2h14c1.1 0 2-.9 2-2V5c0-1.1-.9-2-2-2zM9 17H7v-7h2v7zm4 0h-2V7h2v10zm4 0h-2v-4h2v4z\"/>\n",
              "    </g>\n",
              "</svg>\n",
              "      </button>\n",
              "    </div>\n",
              "\n",
              "<style>\n",
              "  .colab-df-quickchart {\n",
              "    background-color: #E8F0FE;\n",
              "    border: none;\n",
              "    border-radius: 50%;\n",
              "    cursor: pointer;\n",
              "    display: none;\n",
              "    fill: #1967D2;\n",
              "    height: 32px;\n",
              "    padding: 0 0 0 0;\n",
              "    width: 32px;\n",
              "  }\n",
              "\n",
              "  .colab-df-quickchart:hover {\n",
              "    background-color: #E2EBFA;\n",
              "    box-shadow: 0px 1px 2px rgba(60, 64, 67, 0.3), 0px 1px 3px 1px rgba(60, 64, 67, 0.15);\n",
              "    fill: #174EA6;\n",
              "  }\n",
              "\n",
              "  [theme=dark] .colab-df-quickchart {\n",
              "    background-color: #3B4455;\n",
              "    fill: #D2E3FC;\n",
              "  }\n",
              "\n",
              "  [theme=dark] .colab-df-quickchart:hover {\n",
              "    background-color: #434B5C;\n",
              "    box-shadow: 0px 1px 3px 1px rgba(0, 0, 0, 0.15);\n",
              "    filter: drop-shadow(0px 1px 2px rgba(0, 0, 0, 0.3));\n",
              "    fill: #FFFFFF;\n",
              "  }\n",
              "</style>\n",
              "\n",
              "    <script>\n",
              "      async function quickchart(key) {\n",
              "        const containerElement = document.querySelector('#' + key);\n",
              "        const charts = await google.colab.kernel.invokeFunction(\n",
              "            'suggestCharts', [key], {});\n",
              "      }\n",
              "    </script>\n",
              "\n",
              "      <script>\n",
              "\n",
              "function displayQuickchartButton(domScope) {\n",
              "  let quickchartButtonEl =\n",
              "    domScope.querySelector('#df-b0a06cfc-0db5-46e6-a98b-c9e99dc67691 button.colab-df-quickchart');\n",
              "  quickchartButtonEl.style.display =\n",
              "    google.colab.kernel.accessAllowed ? 'block' : 'none';\n",
              "}\n",
              "\n",
              "        displayQuickchartButton(document);\n",
              "      </script>\n",
              "      <style>\n",
              "    .colab-df-container {\n",
              "      display:flex;\n",
              "      flex-wrap:wrap;\n",
              "      gap: 12px;\n",
              "    }\n",
              "\n",
              "    .colab-df-convert {\n",
              "      background-color: #E8F0FE;\n",
              "      border: none;\n",
              "      border-radius: 50%;\n",
              "      cursor: pointer;\n",
              "      display: none;\n",
              "      fill: #1967D2;\n",
              "      height: 32px;\n",
              "      padding: 0 0 0 0;\n",
              "      width: 32px;\n",
              "    }\n",
              "\n",
              "    .colab-df-convert:hover {\n",
              "      background-color: #E2EBFA;\n",
              "      box-shadow: 0px 1px 2px rgba(60, 64, 67, 0.3), 0px 1px 3px 1px rgba(60, 64, 67, 0.15);\n",
              "      fill: #174EA6;\n",
              "    }\n",
              "\n",
              "    [theme=dark] .colab-df-convert {\n",
              "      background-color: #3B4455;\n",
              "      fill: #D2E3FC;\n",
              "    }\n",
              "\n",
              "    [theme=dark] .colab-df-convert:hover {\n",
              "      background-color: #434B5C;\n",
              "      box-shadow: 0px 1px 3px 1px rgba(0, 0, 0, 0.15);\n",
              "      filter: drop-shadow(0px 1px 2px rgba(0, 0, 0, 0.3));\n",
              "      fill: #FFFFFF;\n",
              "    }\n",
              "  </style>\n",
              "\n",
              "      <script>\n",
              "        const buttonEl =\n",
              "          document.querySelector('#df-a0604784-aee7-4a93-a4e7-6635a7c5e5fd button.colab-df-convert');\n",
              "        buttonEl.style.display =\n",
              "          google.colab.kernel.accessAllowed ? 'block' : 'none';\n",
              "\n",
              "        async function convertToInteractive(key) {\n",
              "          const element = document.querySelector('#df-a0604784-aee7-4a93-a4e7-6635a7c5e5fd');\n",
              "          const dataTable =\n",
              "            await google.colab.kernel.invokeFunction('convertToInteractive',\n",
              "                                                     [key], {});\n",
              "          if (!dataTable) return;\n",
              "\n",
              "          const docLinkHtml = 'Like what you see? Visit the ' +\n",
              "            '<a target=\"_blank\" href=https://colab.research.google.com/notebooks/data_table.ipynb>data table notebook</a>'\n",
              "            + ' to learn more about interactive tables.';\n",
              "          element.innerHTML = '';\n",
              "          dataTable['output_type'] = 'display_data';\n",
              "          await google.colab.output.renderOutput(dataTable, element);\n",
              "          const docLink = document.createElement('div');\n",
              "          docLink.innerHTML = docLinkHtml;\n",
              "          element.appendChild(docLink);\n",
              "        }\n",
              "      </script>\n",
              "    </div>\n",
              "  </div>\n"
            ]
          },
          "metadata": {},
          "execution_count": 7
        }
      ]
    },
    {
      "cell_type": "code",
      "source": [
        "sns.heatmap(cor)"
      ],
      "metadata": {
        "id": "9xaIWaS3F2cS",
        "colab": {
          "base_uri": "https://localhost:8080/",
          "height": 531
        },
        "outputId": "11799ffe-db0d-466f-c1ea-8bfff8cdfebb"
      },
      "execution_count": 8,
      "outputs": [
        {
          "output_type": "execute_result",
          "data": {
            "text/plain": [
              "<Axes: >"
            ]
          },
          "metadata": {},
          "execution_count": 8
        },
        {
          "output_type": "display_data",
          "data": {
            "text/plain": [
              "<Figure size 640x480 with 2 Axes>"
            ],
            "image/png": "[encoded data removed]"
          },
          "metadata": {}
        }
      ]
    },
    {
      "cell_type": "markdown",
      "source": [
        "Correlation"
      ],
      "metadata": {
        "id": "OoNjwBWpUw5S"
      }
    },
    {
      "cell_type": "code",
      "source": [
        "# compute correlation matrix\n",
        "corr_matrix = df.corr().abs()\n",
        "\n",
        "# create a mask for highly correlated features\n",
        "mask = corr_matrix.where(np.triu(np.ones(corr_matrix.shape), k=1).astype(np.bool))\n",
        "\n",
        "# drop highly correlated features\n",
        "to_drop = [c for c in mask.columns if any(mask[c] > 0.8436406465040018)]\n",
        "df = df.drop(to_drop, axis=1)\n",
        "\n",
        "# print remaining columns\n",
        "print(df.columns)"
      ],
      "metadata": {
        "id": "CbNBOojHUvWi",
        "colab": {
          "base_uri": "https://localhost:8080/"
        },
        "outputId": "5fd446d3-dd17-4c5f-a83a-509dbafe5926"
      },
      "execution_count": 9,
      "outputs": [
        {
          "output_type": "stream",
          "name": "stdout",
          "text": [
            "Index(['Target', 'AccMeanX', 'AccMeanY', 'AccMeanZ', 'AccCovX', 'AccCovY',\n",
            "       'AccCovZ', 'AccSkewX', 'AccSkewY', 'AccSkewZ', 'AccKurtX', 'AccKurtY',\n",
            "       'AccKurtZ', 'AccSumZ', 'AccMinX', 'AccMinY', 'AccMinZ', 'AccMaxX',\n",
            "       'AccMaxY', 'AccMaxZ', 'AccMedianY', 'AccMedianZ', 'GyroMeanX',\n",
            "       'GyroMeanY', 'GyroCovX', 'GyroCovY', 'GyroCovZ', 'GyroSkewX',\n",
            "       'GyroSkewY', 'GyroSkewZ', 'GyroKurtX', 'GyroKurtY', 'GyroKurtZ',\n",
            "       'GyroMinX', 'GyroMinY', 'GyroMaxX', 'GyroMaxY', 'GyroMedianX',\n",
            "       'GyroMedianY', 'GyroMedianZ'],\n",
            "      dtype='object')\n"
          ]
        },
        {
          "output_type": "stream",
          "name": "stderr",
          "text": [
            "<ipython-input-9-1e11010ac282>:5: DeprecationWarning: `np.bool` is a deprecated alias for the builtin `bool`. To silence this warning, use `bool` by itself. Doing this will not modify any behavior and is safe. If you specifically wanted the numpy scalar type, use `np.bool_` here.\n",
            "Deprecated in NumPy 1.20; for more details and guidance: https://numpy.org/devdocs/release/1.20.0-notes.html#deprecations\n",
            "  mask = corr_matrix.where(np.triu(np.ones(corr_matrix.shape), k=1).astype(np.bool))\n"
          ]
        }
      ]
    },
    {
      "cell_type": "code",
      "source": [
        "df.shape"
      ],
      "metadata": {
        "id": "9wVUYBJFU4F3",
        "colab": {
          "base_uri": "https://localhost:8080/"
        },
        "outputId": "ea03fa38-5f09-419c-d52a-bb2fbfe7d75f"
      },
      "execution_count": 10,
      "outputs": [
        {
          "output_type": "execute_result",
          "data": {
            "text/plain": [
              "(1102, 40)"
            ]
          },
          "metadata": {},
          "execution_count": 10
        }
      ]
    },
    {
      "cell_type": "markdown",
      "source": [
        "# Logistic Regression"
      ],
      "metadata": {
        "id": "Y4HT6mgKnuRP"
      }
    },
    {
      "cell_type": "code",
      "source": [
        "from sklearn.linear_model import LogisticRegression\n",
        "from sklearn.model_selection import train_test_split\n",
        "from sklearn.metrics import accuracy_score, confusion_matrix"
      ],
      "metadata": {
        "id": "TcLs1r2zoLVN"
      },
      "execution_count": 11,
      "outputs": []
    },
    {
      "cell_type": "code",
      "source": [
        "x = df.drop(['Target'], axis = 1)\n",
        "y = df['Target']"
      ],
      "metadata": {
        "id": "qfClasW4lSiU"
      },
      "execution_count": 12,
      "outputs": []
    },
    {
      "cell_type": "code",
      "source": [
        "from sklearn.model_selection import train_test_split\n",
        "\n",
        "x_train, x_test, y_train, y_test = train_test_split(x, y, test_size = 0.2, random_state = 42)\n",
        "\n",
        "print(x_train.shape)\n",
        "print(x_test.shape)\n",
        "print(y_train.shape)\n",
        "print(y_test.shape)"
      ],
      "metadata": {
        "id": "DCbHyFmOlVP4",
        "colab": {
          "base_uri": "https://localhost:8080/"
        },
        "outputId": "ad42c1c6-f383-4446-c0d2-8d6ad1349a34"
      },
      "execution_count": 13,
      "outputs": [
        {
          "output_type": "stream",
          "name": "stdout",
          "text": [
            "(881, 39)\n",
            "(221, 39)\n",
            "(881,)\n",
            "(221,)\n"
          ]
        }
      ]
    },
    {
      "cell_type": "code",
      "source": [
        "lr = LogisticRegression()\n",
        "\n",
        "# train the model on the training data\n",
        "lr.fit(x_train, y_train)\n",
        "\n",
        "# make predictions on the testing data\n",
        "y_pred = lr.predict(x_test)\n",
        "\n",
        "# calculate the accuracy of the model\n",
        "log_acc = accuracy_score(y_test, y_pred)\n",
        "print(\"Accuracy:\", log_acc)\n"
      ],
      "metadata": {
        "id": "F6OaixRqodkT",
        "colab": {
          "base_uri": "https://localhost:8080/"
        },
        "outputId": "5e972ef8-98a7-43e3-d70c-45bf1ffca1bb"
      },
      "execution_count": 14,
      "outputs": [
        {
          "output_type": "stream",
          "name": "stdout",
          "text": [
            "Accuracy: 0.9502262443438914\n"
          ]
        },
        {
          "output_type": "stream",
          "name": "stderr",
          "text": [
            "/usr/local/lib/python3.10/dist-packages/sklearn/linear_model/_logistic.py:458: ConvergenceWarning: lbfgs failed to converge (status=1):\n",
            "STOP: TOTAL NO. of ITERATIONS REACHED LIMIT.\n",
            "\n",
            "Increase the number of iterations (max_iter) or scale the data as shown in:\n",
            "    https://scikit-learn.org/stable/modules/preprocessing.html\n",
            "Please also refer to the documentation for alternative solver options:\n",
            "    https://scikit-learn.org/stable/modules/linear_model.html#logistic-regression\n",
            "  n_iter_i = _check_optimize_result(\n"
          ]
        }
      ]
    },
    {
      "cell_type": "code",
      "source": [
        "# calculate the confusion matrix\n",
        "cm = confusion_matrix(y_test, y_pred)\n",
        "print(\"Confusion matrix:\")\n",
        "print(cm)"
      ],
      "metadata": {
        "id": "IPdPjAnGc627",
        "colab": {
          "base_uri": "https://localhost:8080/"
        },
        "outputId": "1978b2de-7fc0-4a40-c82a-4b7f9a3d6d6a"
      },
      "execution_count": 15,
      "outputs": [
        {
          "output_type": "stream",
          "name": "stdout",
          "text": [
            "Confusion matrix:\n",
            "[[51  0  0  2]\n",
            " [ 0 59  1  0]\n",
            " [ 6  0 61  2]\n",
            " [ 0  0  0 39]]\n"
          ]
        }
      ]
    },
    {
      "cell_type": "markdown",
      "source": [
        "#Decision Tree"
      ],
      "metadata": {
        "id": "nPqXMDA1MrTT"
      }
    },
    {
      "cell_type": "code",
      "source": [
        "from sklearn.tree import DecisionTreeClassifier\n",
        "model = DecisionTreeClassifier(criterion='gini')\n",
        "model.fit(x_train, y_train)"
      ],
      "metadata": {
        "id": "nni-tF7GNDk4",
        "colab": {
          "base_uri": "https://localhost:8080/",
          "height": 74
        },
        "outputId": "4f87d6ae-609b-4b39-bb6a-40c8598952ef"
      },
      "execution_count": 16,
      "outputs": [
        {
          "output_type": "execute_result",
          "data": {
            "text/plain": [
              "DecisionTreeClassifier()"
            ],
            "text/html": [
              "<style>#sk-container-id-1 {color: black;background-color: white;}#sk-container-id-1 pre{padding: 0;}#sk-container-id-1 div.sk-toggleable {background-color: white;}#sk-container-id-1 label.sk-toggleable__label {cursor: pointer;display: block;width: 100%;margin-bottom: 0;padding: 0.3em;box-sizing: border-box;text-align: center;}#sk-container-id-1 label.sk-toggleable__label-arrow:before {content: \"▸\";float: left;margin-right: 0.25em;color: #696969;}#sk-container-id-1 label.sk-toggleable__label-arrow:hover:before {color: black;}#sk-container-id-1 div.sk-estimator:hover label.sk-toggleable__label-arrow:before {color: black;}#sk-container-id-1 div.sk-toggleable__content {max-height: 0;max-width: 0;overflow: hidden;text-align: left;background-color: #f0f8ff;}#sk-container-id-1 div.sk-toggleable__content pre {margin: 0.2em;color: black;border-radius: 0.25em;background-color: #f0f8ff;}#sk-container-id-1 input.sk-toggleable__control:checked~div.sk-toggleable__content {max-height: 200px;max-width: 100%;overflow: auto;}#sk-container-id-1 input.sk-toggleable__control:checked~label.sk-toggleable__label-arrow:before {content: \"▾\";}#sk-container-id-1 div.sk-estimator input.sk-toggleable__control:checked~label.sk-toggleable__label {background-color: #d4ebff;}#sk-container-id-1 div.sk-label input.sk-toggleable__control:checked~label.sk-toggleable__label {background-color: #d4ebff;}#sk-container-id-1 input.sk-hidden--visually {border: 0;clip: rect(1px 1px 1px 1px);clip: rect(1px, 1px, 1px, 1px);height: 1px;margin: -1px;overflow: hidden;padding: 0;position: absolute;width: 1px;}#sk-container-id-1 div.sk-estimator {font-family: monospace;background-color: #f0f8ff;border: 1px dotted black;border-radius: 0.25em;box-sizing: border-box;margin-bottom: 0.5em;}#sk-container-id-1 div.sk-estimator:hover {background-color: #d4ebff;}#sk-container-id-1 div.sk-parallel-item::after {content: \"\";width: 100%;border-bottom: 1px solid gray;flex-grow: 1;}#sk-container-id-1 div.sk-label:hover label.sk-toggleable__label {background-color: #d4ebff;}#sk-container-id-1 div.sk-serial::before {content: \"\";position: absolute;border-left: 1px solid gray;box-sizing: border-box;top: 0;bottom: 0;left: 50%;z-index: 0;}#sk-container-id-1 div.sk-serial {display: flex;flex-direction: column;align-items: center;background-color: white;padding-right: 0.2em;padding-left: 0.2em;position: relative;}#sk-container-id-1 div.sk-item {position: relative;z-index: 1;}#sk-container-id-1 div.sk-parallel {display: flex;align-items: stretch;justify-content: center;background-color: white;position: relative;}#sk-container-id-1 div.sk-item::before, #sk-container-id-1 div.sk-parallel-item::before {content: \"\";position: absolute;border-left: 1px solid gray;box-sizing: border-box;top: 0;bottom: 0;left: 50%;z-index: -1;}#sk-container-id-1 div.sk-parallel-item {display: flex;flex-direction: column;z-index: 1;position: relative;background-color: white;}#sk-container-id-1 div.sk-parallel-item:first-child::after {align-self: flex-end;width: 50%;}#sk-container-id-1 div.sk-parallel-item:last-child::after {align-self: flex-start;width: 50%;}#sk-container-id-1 div.sk-parallel-item:only-child::after {width: 0;}#sk-container-id-1 div.sk-dashed-wrapped {border: 1px dashed gray;margin: 0 0.4em 0.5em 0.4em;box-sizing: border-box;padding-bottom: 0.4em;background-color: white;}#sk-container-id-1 div.sk-label label {font-family: monospace;font-weight: bold;display: inline-block;line-height: 1.2em;}#sk-container-id-1 div.sk-label-container {text-align: center;}#sk-container-id-1 div.sk-container {/* jupyter's `normalize.less` sets `[hidden] { display: none; }` but bootstrap.min.css set `[hidden] { display: none !important; }` so we also need the `!important` here to be able to override the default hidden behavior on the sphinx rendered scikit-learn.org. See: https://github.com/scikit-learn/scikit-learn/issues/21755 */display: inline-block !important;position: relative;}#sk-container-id-1 div.sk-text-repr-fallback {display: none;}</style><div id=\"sk-container-id-1\" class=\"sk-top-container\"><div class=\"sk-text-repr-fallback\"><pre>DecisionTreeClassifier()</pre><b>In a Jupyter environment, please rerun this cell to show the HTML representation or trust the notebook. <br />On GitHub, the HTML representation is unable to render, please try loading this page with nbviewer.org.</b></div><div class=\"sk-container\" hidden><div class=\"sk-item\"><div class=\"sk-estimator sk-toggleable\"><input class=\"sk-toggleable__control sk-hidden--visually\" id=\"sk-estimator-id-1\" type=\"checkbox\" checked><label for=\"sk-estimator-id-1\" class=\"sk-toggleable__label sk-toggleable__label-arrow\">DecisionTreeClassifier</label><div class=\"sk-toggleable__content\"><pre>DecisionTreeClassifier()</pre></div></div></div></div></div>"
            ]
          },
          "metadata": {},
          "execution_count": 16
        }
      ]
    },
    {
      "cell_type": "code",
      "source": [
        "expected = y_test\n",
        "predicted = model.predict(x_test)"
      ],
      "metadata": {
        "id": "o5Amor7INHYH"
      },
      "execution_count": 17,
      "outputs": []
    },
    {
      "cell_type": "code",
      "source": [
        "from sklearn import metrics\n",
        "print(metrics.confusion_matrix(expected, predicted))"
      ],
      "metadata": {
        "id": "aU52lrOcNLOo",
        "colab": {
          "base_uri": "https://localhost:8080/"
        },
        "outputId": "2b36ed12-e621-454e-b59b-5fb446748d08"
      },
      "execution_count": 18,
      "outputs": [
        {
          "output_type": "stream",
          "name": "stdout",
          "text": [
            "[[52  0  1  0]\n",
            " [ 0 59  1  0]\n",
            " [ 1  1 67  0]\n",
            " [ 0  0  0 39]]\n"
          ]
        }
      ]
    },
    {
      "cell_type": "code",
      "source": [
        "dec_acc = metrics.accuracy_score(expected, predicted)\n",
        "dec_acc"
      ],
      "metadata": {
        "id": "8S0cziYMcPMT",
        "colab": {
          "base_uri": "https://localhost:8080/"
        },
        "outputId": "8ddd133f-7ece-4446-bc6b-51aaf8724546"
      },
      "execution_count": 19,
      "outputs": [
        {
          "output_type": "execute_result",
          "data": {
            "text/plain": [
              "0.9819004524886877"
            ]
          },
          "metadata": {},
          "execution_count": 19
        }
      ]
    },
    {
      "cell_type": "code",
      "source": [
        "df_pred = pd.DataFrame()\n",
        "data = {\"Expected\" : expected, \"Predicted\":predicted}\n",
        "df_pred = pd.DataFrame(data)\n",
        "df_pred"
      ],
      "metadata": {
        "id": "cei0cD8eVYTn",
        "colab": {
          "base_uri": "https://localhost:8080/",
          "height": 423
        },
        "outputId": "f8fa6b37-6af0-4774-fb73-efa1cb440f5b"
      },
      "execution_count": 20,
      "outputs": [
        {
          "output_type": "execute_result",
          "data": {
            "text/plain": [
              "      Expected  Predicted\n",
              "309          2          2\n",
              "1040         4          4\n",
              "381          2          2\n",
              "497          2          2\n",
              "914          4          4\n",
              "...        ...        ...\n",
              "774          3          3\n",
              "321          2          2\n",
              "981          4          4\n",
              "923          4          4\n",
              "851          3          3\n",
              "\n",
              "[221 rows x 2 columns]"
            ],
            "text/html": [
              "\n",
              "\n",
              "  <div id=\"df-6082a0e6-d9b2-47d0-9a2f-69accdce87d3\">\n",
              "    <div class=\"colab-df-container\">\n",
              "      <div>\n",
              "<style scoped>\n",
              "    .dataframe tbody tr th:only-of-type {\n",
              "        vertical-align: middle;\n",
              "    }\n",
              "\n",
              "    .dataframe tbody tr th {\n",
              "        vertical-align: top;\n",
              "    }\n",
              "\n",
              "    .dataframe thead th {\n",
              "        text-align: right;\n",
              "    }\n",
              "</style>\n",
              "<table border=\"1\" class=\"dataframe\">\n",
              "  <thead>\n",
              "    <tr style=\"text-align: right;\">\n",
              "      <th></th>\n",
              "      <th>Expected</th>\n",
              "      <th>Predicted</th>\n",
              "    </tr>\n",
              "  </thead>\n",
              "  <tbody>\n",
              "    <tr>\n",
              "      <th>309</th>\n",
              "      <td>2</td>\n",
              "      <td>2</td>\n",
              "    </tr>\n",
              "    <tr>\n",
              "      <th>1040</th>\n",
              "      <td>4</td>\n",
              "      <td>4</td>\n",
              "    </tr>\n",
              "    <tr>\n",
              "      <th>381</th>\n",
              "      <td>2</td>\n",
              "      <td>2</td>\n",
              "    </tr>\n",
              "    <tr>\n",
              "      <th>497</th>\n",
              "      <td>2</td>\n",
              "      <td>2</td>\n",
              "    </tr>\n",
              "    <tr>\n",
              "      <th>914</th>\n",
              "      <td>4</td>\n",
              "      <td>4</td>\n",
              "    </tr>\n",
              "    <tr>\n",
              "      <th>...</th>\n",
              "      <td>...</td>\n",
              "      <td>...</td>\n",
              "    </tr>\n",
              "    <tr>\n",
              "      <th>774</th>\n",
              "      <td>3</td>\n",
              "      <td>3</td>\n",
              "    </tr>\n",
              "    <tr>\n",
              "      <th>321</th>\n",
              "      <td>2</td>\n",
              "      <td>2</td>\n",
              "    </tr>\n",
              "    <tr>\n",
              "      <th>981</th>\n",
              "      <td>4</td>\n",
              "      <td>4</td>\n",
              "    </tr>\n",
              "    <tr>\n",
              "      <th>923</th>\n",
              "      <td>4</td>\n",
              "      <td>4</td>\n",
              "    </tr>\n",
              "    <tr>\n",
              "      <th>851</th>\n",
              "      <td>3</td>\n",
              "      <td>3</td>\n",
              "    </tr>\n",
              "  </tbody>\n",
              "</table>\n",
              "<p>221 rows × 2 columns</p>\n",
              "</div>\n",
              "      <button class=\"colab-df-convert\" onclick=\"convertToInteractive('df-6082a0e6-d9b2-47d0-9a2f-69accdce87d3')\"\n",
              "              title=\"Convert this dataframe to an interactive table.\"\n",
              "              style=\"display:none;\">\n",
              "\n",
              "  <svg xmlns=\"http://www.w3.org/2000/svg\" height=\"24px\"viewBox=\"0 0 24 24\"\n",
              "       width=\"24px\">\n",
              "    <path d=\"M0 0h24v24H0V0z\" fill=\"none\"/>\n",
              "    <path d=\"M18.56 5.44l.94 2.06.94-2.06 2.06-.94-2.06-.94-.94-2.06-.94 2.06-2.06.94zm-11 1L8.5 8.5l.94-2.06 2.06-.94-2.06-.94L8.5 2.5l-.94 2.06-2.06.94zm10 10l.94 2.06.94-2.06 2.06-.94-2.06-.94-.94-2.06-.94 2.06-2.06.94z\"/><path d=\"M17.41 7.96l-1.37-1.37c-.4-.4-.92-.59-1.43-.59-.52 0-1.04.2-1.43.59L10.3 9.45l-7.72 7.72c-.78.78-.78 2.05 0 2.83L4 21.41c.39.39.9.59 1.41.59.51 0 1.02-.2 1.41-.59l7.78-7.78 2.81-2.81c.8-.78.8-2.07 0-2.86zM5.41 20L4 18.59l7.72-7.72 1.47 1.35L5.41 20z\"/>\n",
              "  </svg>\n",
              "      </button>\n",
              "\n",
              "\n",
              "\n",
              "    <div id=\"df-7bbd1a25-2c98-44d3-8c15-095d3d4a28e5\">\n",
              "      <button class=\"colab-df-quickchart\" onclick=\"quickchart('df-7bbd1a25-2c98-44d3-8c15-095d3d4a28e5')\"\n",
              "              title=\"Suggest charts.\"\n",
              "              style=\"display:none;\">\n",
              "\n",
              "<svg xmlns=\"http://www.w3.org/2000/svg\" height=\"24px\"viewBox=\"0 0 24 24\"\n",
              "     width=\"24px\">\n",
              "    <g>\n",
              "        <path d=\"M19 3H5c-1.1 0-2 .9-2 2v14c0 1.1.9 2 2 2h14c1.1 0 2-.9 2-2V5c0-1.1-.9-2-2-2zM9 17H7v-7h2v7zm4 0h-2V7h2v10zm4 0h-2v-4h2v4z\"/>\n",
              "    </g>\n",
              "</svg>\n",
              "      </button>\n",
              "    </div>\n",
              "\n",
              "<style>\n",
              "  .colab-df-quickchart {\n",
              "    background-color: #E8F0FE;\n",
              "    border: none;\n",
              "    border-radius: 50%;\n",
              "    cursor: pointer;\n",
              "    display: none;\n",
              "    fill: #1967D2;\n",
              "    height: 32px;\n",
              "    padding: 0 0 0 0;\n",
              "    width: 32px;\n",
              "  }\n",
              "\n",
              "  .colab-df-quickchart:hover {\n",
              "    background-color: #E2EBFA;\n",
              "    box-shadow: 0px 1px 2px rgba(60, 64, 67, 0.3), 0px 1px 3px 1px rgba(60, 64, 67, 0.15);\n",
              "    fill: #174EA6;\n",
              "  }\n",
              "\n",
              "  [theme=dark] .colab-df-quickchart {\n",
              "    background-color: #3B4455;\n",
              "    fill: #D2E3FC;\n",
              "  }\n",
              "\n",
              "  [theme=dark] .colab-df-quickchart:hover {\n",
              "    background-color: #434B5C;\n",
              "    box-shadow: 0px 1px 3px 1px rgba(0, 0, 0, 0.15);\n",
              "    filter: drop-shadow(0px 1px 2px rgba(0, 0, 0, 0.3));\n",
              "    fill: #FFFFFF;\n",
              "  }\n",
              "</style>\n",
              "\n",
              "    <script>\n",
              "      async function quickchart(key) {\n",
              "        const containerElement = document.querySelector('#' + key);\n",
              "        const charts = await google.colab.kernel.invokeFunction(\n",
              "            'suggestCharts', [key], {});\n",
              "      }\n",
              "    </script>\n",
              "\n",
              "      <script>\n",
              "\n",
              "function displayQuickchartButton(domScope) {\n",
              "  let quickchartButtonEl =\n",
              "    domScope.querySelector('#df-7bbd1a25-2c98-44d3-8c15-095d3d4a28e5 button.colab-df-quickchart');\n",
              "  quickchartButtonEl.style.display =\n",
              "    google.colab.kernel.accessAllowed ? 'block' : 'none';\n",
              "}\n",
              "\n",
              "        displayQuickchartButton(document);\n",
              "      </script>\n",
              "      <style>\n",
              "    .colab-df-container {\n",
              "      display:flex;\n",
              "      flex-wrap:wrap;\n",
              "      gap: 12px;\n",
              "    }\n",
              "\n",
              "    .colab-df-convert {\n",
              "      background-color: #E8F0FE;\n",
              "      border: none;\n",
              "      border-radius: 50%;\n",
              "      cursor: pointer;\n",
              "      display: none;\n",
              "      fill: #1967D2;\n",
              "      height: 32px;\n",
              "      padding: 0 0 0 0;\n",
              "      width: 32px;\n",
              "    }\n",
              "\n",
              "    .colab-df-convert:hover {\n",
              "      background-color: #E2EBFA;\n",
              "      box-shadow: 0px 1px 2px rgba(60, 64, 67, 0.3), 0px 1px 3px 1px rgba(60, 64, 67, 0.15);\n",
              "      fill: #174EA6;\n",
              "    }\n",
              "\n",
              "    [theme=dark] .colab-df-convert {\n",
              "      background-color: #3B4455;\n",
              "      fill: #D2E3FC;\n",
              "    }\n",
              "\n",
              "    [theme=dark] .colab-df-convert:hover {\n",
              "      background-color: #434B5C;\n",
              "      box-shadow: 0px 1px 3px 1px rgba(0, 0, 0, 0.15);\n",
              "      filter: drop-shadow(0px 1px 2px rgba(0, 0, 0, 0.3));\n",
              "      fill: #FFFFFF;\n",
              "    }\n",
              "  </style>\n",
              "\n",
              "      <script>\n",
              "        const buttonEl =\n",
              "          document.querySelector('#df-6082a0e6-d9b2-47d0-9a2f-69accdce87d3 button.colab-df-convert');\n",
              "        buttonEl.style.display =\n",
              "          google.colab.kernel.accessAllowed ? 'block' : 'none';\n",
              "\n",
              "        async function convertToInteractive(key) {\n",
              "          const element = document.querySelector('#df-6082a0e6-d9b2-47d0-9a2f-69accdce87d3');\n",
              "          const dataTable =\n",
              "            await google.colab.kernel.invokeFunction('convertToInteractive',\n",
              "                                                     [key], {});\n",
              "          if (!dataTable) return;\n",
              "\n",
              "          const docLinkHtml = 'Like what you see? Visit the ' +\n",
              "            '<a target=\"_blank\" href=https://colab.research.google.com/notebooks/data_table.ipynb>data table notebook</a>'\n",
              "            + ' to learn more about interactive tables.';\n",
              "          element.innerHTML = '';\n",
              "          dataTable['output_type'] = 'display_data';\n",
              "          await google.colab.output.renderOutput(dataTable, element);\n",
              "          const docLink = document.createElement('div');\n",
              "          docLink.innerHTML = docLinkHtml;\n",
              "          element.appendChild(docLink);\n",
              "        }\n",
              "      </script>\n",
              "    </div>\n",
              "  </div>\n"
            ]
          },
          "metadata": {},
          "execution_count": 20
        }
      ]
    },
    {
      "cell_type": "markdown",
      "source": [
        "# Random Forest\n"
      ],
      "metadata": {
        "id": "wyVCLDmJmKUs"
      }
    },
    {
      "cell_type": "code",
      "source": [
        "from sklearn.ensemble import RandomForestClassifier\n",
        "from sklearn.model_selection import cross_val_predict\n",
        "from sklearn.metrics import accuracy_score, precision_score, recall_score, f1_score, roc_auc_score\n",
        "\n",
        "# create a Random Forest classifier\n",
        "rf = RandomForestClassifier(n_estimators=100, random_state=42)\n",
        "\n",
        "rf.fit(x_train,y_train)\n",
        "\n",
        "# make predictions using cross-validation\n",
        "y_train_pred = cross_val_predict(rf, x_train, y_train, cv=5)\n",
        "\n",
        "# calculate performance metrics\n",
        "ran_acc = accuracy_score(y_train, y_train_pred)\n",
        "precision = precision_score(y_train, y_train_pred, average='weighted')\n",
        "recall = recall_score(y_train, y_train_pred, average='weighted')\n",
        "\n",
        "print('Accuracy:', ran_acc)"
      ],
      "metadata": {
        "id": "wUtrsB-FnVJO",
        "colab": {
          "base_uri": "https://localhost:8080/"
        },
        "outputId": "d47d4000-f458-443f-d292-0d5e831c4343"
      },
      "execution_count": 21,
      "outputs": [
        {
          "output_type": "stream",
          "name": "stdout",
          "text": [
            "Accuracy: 0.996594778660613\n"
          ]
        }
      ]
    },
    {
      "cell_type": "markdown",
      "source": [
        "confusion matrix"
      ],
      "metadata": {
        "id": "I_sN2E8wd8p5"
      }
    },
    {
      "cell_type": "code",
      "source": [
        "from sklearn.metrics import confusion_matrix\n",
        "y_pred = rf.predict(x_test)\n",
        "\n",
        "cm = confusion_matrix(y_test,y_pred)\n",
        "\n",
        "print(cm)"
      ],
      "metadata": {
        "id": "caxf6obLh54T",
        "colab": {
          "base_uri": "https://localhost:8080/"
        },
        "outputId": "cbd576dd-c6c0-4d7b-bf46-a08f683a8e5d"
      },
      "execution_count": 22,
      "outputs": [
        {
          "output_type": "stream",
          "name": "stdout",
          "text": [
            "[[53  0  0  0]\n",
            " [ 0 59  1  0]\n",
            " [ 0  0 69  0]\n",
            " [ 0  0  0 39]]\n"
          ]
        }
      ]
    },
    {
      "cell_type": "code",
      "source": [
        "import numpy as np\n",
        "import matplotlib.pyplot as plt\n",
        "from sklearn.datasets import make_classification\n",
        "from sklearn.ensemble import RandomForestClassifier\n",
        "from sklearn.metrics import roc_curve, auc\n",
        "from sklearn.preprocessing import label_binarize\n",
        "from sklearn.multiclass import OneVsRestClassifier\n",
        "\n",
        "# Fit a random forest classifier to the training data\n",
        "rf = RandomForestClassifier(n_estimators=100, random_state=42)\n",
        "rf.fit(x_train, y_train)\n",
        "\n",
        "# Get the predicted class probabilities for the test data\n",
        "y_prob = rf.predict_proba(x_test)\n",
        "\n",
        "# Binarize the true labels for plotting the ROC curves\n",
        "y_test_bin = label_binarize(y_test, classes=[0, 1, 2, 3])\n",
        "\n",
        "# Compute ROC curve and ROC area for each class\n",
        "fpr = {}\n",
        "tpr = {}\n",
        "roc_auc = {}\n",
        "n_classes = 4\n",
        "for i in range(n_classes):\n",
        "    fpr[i], tpr[i], _ = roc_curve(y_test_bin[:, i], y_prob[:, i])\n",
        "    roc_auc[i] = auc(fpr[i], tpr[i])\n",
        "\n",
        "# Plot the ROC curves for each class\n",
        "plt.figure()\n",
        "lw = 2\n",
        "colors = ['red', 'green', 'blue', 'orange']\n",
        "for i, color in zip(range(n_classes), colors):\n",
        "    plt.plot(fpr[i], tpr[i], color=color, lw=lw,\n",
        "             label='ROC curve of class {0} (area = {1:0.2f})'\n",
        "             ''.format(i, roc_auc[i]))\n",
        "\n",
        "plt.xlabel('False Positive Rate')\n",
        "plt.ylabel('True Positive Rate')\n",
        "plt.title('Multiclass ROC Curve for')\n",
        "\n",
        "print()\n",
        "print(roc_auc)\n",
        "print()"
      ],
      "metadata": {
        "id": "YSSDS7lG8oW0",
        "colab": {
          "base_uri": "https://localhost:8080/",
          "height": 559
        },
        "outputId": "b4048d79-901c-419c-83f3-1adacb268011"
      },
      "execution_count": 23,
      "outputs": [
        {
          "output_type": "stream",
          "name": "stderr",
          "text": [
            "/usr/local/lib/python3.10/dist-packages/sklearn/metrics/_ranking.py:1029: UndefinedMetricWarning: No positive samples in y_true, true positive value should be meaningless\n",
            "  warnings.warn(\n"
          ]
        },
        {
          "output_type": "stream",
          "name": "stdout",
          "text": [
            "\n",
            "{0: nan, 1: 0.35646900269541776, 2: 0.20828157349896476, 3: 0.33371472158657506}\n",
            "\n"
          ]
        },
        {
          "output_type": "display_data",
          "data": {
            "text/plain": [
              "<Figure size 640x480 with 1 Axes>"
            ],
            "image/png": "[encoded data removed]"
          },
          "metadata": {}
        }
      ]
    },
    {
      "cell_type": "markdown",
      "source": [
        "# comparision table"
      ],
      "metadata": {
        "id": "Z17-GIXlfyOw"
      }
    },
    {
      "cell_type": "code",
      "source": [
        "\n",
        "dec_acc = metrics.accuracy_score(expected, predicted)\n",
        "ran_acc = accuracy_score(y_train, y_train_pred)"
      ],
      "metadata": {
        "id": "5tNkFofSdX4o"
      },
      "execution_count": 24,
      "outputs": []
    },
    {
      "cell_type": "code",
      "source": [
        "models = {'logistic regression' : log_acc,'decision tree': dec_acc,'random forest': ran_acc}"
      ],
      "metadata": {
        "id": "W4uGoTPKd9z3"
      },
      "execution_count": 25,
      "outputs": []
    },
    {
      "cell_type": "code",
      "source": [
        "df1 = pd.DataFrame(list(models.items()), columns=['model','accuracy'])\n",
        "print(df1)"
      ],
      "metadata": {
        "id": "r1jynpT0eNq9",
        "colab": {
          "base_uri": "https://localhost:8080/"
        },
        "outputId": "8540eae6-a2d1-428c-a127-4d68fd4eeaaa"
      },
      "execution_count": 26,
      "outputs": [
        {
          "output_type": "stream",
          "name": "stdout",
          "text": [
            "                 model  accuracy\n",
            "0  logistic regression  0.950226\n",
            "1        decision tree  0.981900\n",
            "2        random forest  0.996595\n"
          ]
        }
      ]
    },
    {
      "cell_type": "markdown",
      "source": [
        "# prediction"
      ],
      "metadata": {
        "id": "IQoQZAtLpHg-"
      }
    },
    {
      "cell_type": "code",
      "source": [
        "# Load the dataset into a Pandas DataFrame\n",
        "\n",
        "new_data = pd.read_csv(\"/content/features_14 (1).csv\")\n",
        "\n",
        "corr_matrix = new_data.corr().abs()\n",
        "mask = corr_matrix.where(np.triu(np.ones(corr_matrix.shape), k=1).astype(np.bool))\n",
        "new_drop = [c for c in mask.columns if any(mask[c] > 0.888999)]\n",
        "\n",
        "new_data = new_data.drop(to_drop, axis=1)\n",
        "\n",
        "print(new_data.columns)"
      ],
      "metadata": {
        "id": "juY6WkUzvYg0",
        "colab": {
          "base_uri": "https://localhost:8080/"
        },
        "outputId": "c3539276-a363-4279-cc56-36640fc75fe6"
      },
      "execution_count": 28,
      "outputs": [
        {
          "output_type": "stream",
          "name": "stdout",
          "text": [
            "Index(['Target', 'AccMeanX', 'AccMeanY', 'AccMeanZ', 'AccCovX', 'AccCovY',\n",
            "       'AccCovZ', 'AccSkewX', 'AccSkewY', 'AccSkewZ', 'AccKurtX', 'AccKurtY',\n",
            "       'AccKurtZ', 'AccSumZ', 'AccMinX', 'AccMinY', 'AccMinZ', 'AccMaxX',\n",
            "       'AccMaxY', 'AccMaxZ', 'AccMedianY', 'AccMedianZ', 'GyroMeanX',\n",
            "       'GyroMeanY', 'GyroCovX', 'GyroCovY', 'GyroCovZ', 'GyroSkewX',\n",
            "       'GyroSkewY', 'GyroSkewZ', 'GyroKurtX', 'GyroKurtY', 'GyroKurtZ',\n",
            "       'GyroMinX', 'GyroMinY', 'GyroMaxX', 'GyroMaxY', 'GyroMedianX',\n",
            "       'GyroMedianY', 'GyroMedianZ'],\n",
            "      dtype='object')\n"
          ]
        },
        {
          "output_type": "stream",
          "name": "stderr",
          "text": [
            "<ipython-input-28-6ea592bc58f8>:6: DeprecationWarning: `np.bool` is a deprecated alias for the builtin `bool`. To silence this warning, use `bool` by itself. Doing this will not modify any behavior and is safe. If you specifically wanted the numpy scalar type, use `np.bool_` here.\n",
            "Deprecated in NumPy 1.20; for more details and guidance: https://numpy.org/devdocs/release/1.20.0-notes.html#deprecations\n",
            "  mask = corr_matrix.where(np.triu(np.ones(corr_matrix.shape), k=1).astype(np.bool))\n"
          ]
        }
      ]
    },
    {
      "cell_type": "code",
      "source": [
        "# Extract the features from the new data\n",
        "X_new = new_data.drop(\"Target\", axis=1)\n",
        "\n",
        "# Make predictions on the new data using the trained random forest classifier\n",
        "y_pred = rf.predict(X_new)\n",
        "\n",
        "# Print the predicted class labels for the new data\n",
        "print(y_pred)\n"
      ],
      "metadata": {
        "id": "gFZEu6eQuVEV",
        "colab": {
          "base_uri": "https://localhost:8080/"
        },
        "outputId": "811aadd5-4c0e-4fe1-c457-a08632a49671"
      },
      "execution_count": 29,
      "outputs": [
        {
          "output_type": "stream",
          "name": "stdout",
          "text": [
            "[1 1 1 ... 4 4 4]\n"
          ]
        }
      ]
    },
    {
      "cell_type": "code",
      "source": [
        "instance = [0.28533935546875,-0.13861083984375,-0.957763671875,0.0221495380004247,0.00397512813409169,0.00192622343699137,0.867594123247394,-1.30586783682574,-0.507254093830019,-1.16480571997773,1.23984021400416,-0.761064592824839,-3.8310546875,0.16259765625,-0.226806640625,-1.01318359375,0.480224609375,-0.086669921875,-0.91162109375,-0.1204833984375,-0.953125,-0.177480916030534,4.19083969465648,0.498091603053435,0.761120175591943,0.184371540120044,0.26285861352291,0.225352264227666,-0.338028342080587,-1.72718310959754,-4.71049633204901,-4.03586811805139,2.91479569741562,-0.923664122137404,3.69465648854961,0.786259541984732,4.5648854961832,-0.286259541984732]"
      ],
      "metadata": {
        "id": "lIqYHD2OuJor"
      },
      "execution_count": 30,
      "outputs": []
    },
    {
      "cell_type": "code",
      "source": [
        "len(instance)"
      ],
      "metadata": {
        "id": "CO0BSzGN7gpJ",
        "colab": {
          "base_uri": "https://localhost:8080/"
        },
        "outputId": "7f2d22aa-0fe8-4d02-94f4-2ff3470d39a3"
      },
      "execution_count": 31,
      "outputs": [
        {
          "output_type": "execute_result",
          "data": {
            "text/plain": [
              "38"
            ]
          },
          "metadata": {},
          "execution_count": 31
        }
      ]
    },
    {
      "cell_type": "code",
      "source": [
        "# import numpy as np\n",
        "\n",
        "# # Assume \"instance\" is a list of feature values for a single instance\n",
        "# X_new = np.array(instance).reshape(1, -1)\n",
        "\n",
        "# # Make prediction on the new instance using the trained random forest classifier\n",
        "# y_pred = rf.predict(X_new)\n",
        "\n",
        "# # Print the predicted class label for the new instance\n",
        "# print(y_pred[0])\n"
      ],
      "metadata": {
        "id": "WzIwiu5toS4a"
      },
      "execution_count": null,
      "outputs": []
    },
    {
      "cell_type": "code",
      "source": [
        "df1 = df.copy()"
      ],
      "metadata": {
        "id": "xjCe3KKj4qla"
      },
      "execution_count": 32,
      "outputs": []
    },
    {
      "cell_type": "code",
      "source": [
        "df1.shape"
      ],
      "metadata": {
        "id": "uiMuTkp16TV2",
        "colab": {
          "base_uri": "https://localhost:8080/"
        },
        "outputId": "8e812254-9074-4745-af26-ea9e51ee1a30"
      },
      "execution_count": 33,
      "outputs": [
        {
          "output_type": "execute_result",
          "data": {
            "text/plain": [
              "(1102, 40)"
            ]
          },
          "metadata": {},
          "execution_count": 33
        }
      ]
    },
    {
      "cell_type": "code",
      "source": [
        "from sklearn.feature_selection import SelectKBest, f_classif"
      ],
      "metadata": {
        "id": "_-CxrdBR3xUu"
      },
      "execution_count": 34,
      "outputs": []
    },
    {
      "cell_type": "code",
      "source": [
        "x1 = df1.drop('Target', axis=1)\n",
        "y1 = df1['Target']\n",
        "# Perform feature selection using SelectKBest and f_classif scoring function\n",
        "selector = SelectKBest(score_func=f_classif, k=5)\n",
        "X_new = selector.fit_transform(x1, y1)\n",
        "\n",
        "# Get the indices of the selected features\n",
        "selected_features_indices = selector.get_support(indices=True)\n",
        "\n",
        "# Get the names of the selected features\n",
        "selected_features_names = x1.columns[selected_features_indices]\n",
        "\n",
        "# Create a new DataFrame with only the selected features\n",
        "X_selected = pd.DataFrame(X_new, columns=selected_features_names)\n"
      ],
      "metadata": {
        "id": "Crm5r8m6dAuc"
      },
      "execution_count": 35,
      "outputs": []
    },
    {
      "cell_type": "code",
      "source": [
        "rf = RandomForestClassifier(n_estimators=100, random_state=42)\n",
        "\n",
        "rf.fit(X_selected,y1)"
      ],
      "metadata": {
        "id": "LxSSLXuY5Shq",
        "colab": {
          "base_uri": "https://localhost:8080/",
          "height": 74
        },
        "outputId": "ef895bf6-14c6-49d9-bec2-97ac54fb135c"
      },
      "execution_count": 36,
      "outputs": [
        {
          "output_type": "execute_result",
          "data": {
            "text/plain": [
              "RandomForestClassifier(random_state=42)"
            ],
            "text/html": [
              "<style>#sk-container-id-2 {color: black;background-color: white;}#sk-container-id-2 pre{padding: 0;}#sk-container-id-2 div.sk-toggleable {background-color: white;}#sk-container-id-2 label.sk-toggleable__label {cursor: pointer;display: block;width: 100%;margin-bottom: 0;padding: 0.3em;box-sizing: border-box;text-align: center;}#sk-container-id-2 label.sk-toggleable__label-arrow:before {content: \"▸\";float: left;margin-right: 0.25em;color: #696969;}#sk-container-id-2 label.sk-toggleable__label-arrow:hover:before {color: black;}#sk-container-id-2 div.sk-estimator:hover label.sk-toggleable__label-arrow:before {color: black;}#sk-container-id-2 div.sk-toggleable__content {max-height: 0;max-width: 0;overflow: hidden;text-align: left;background-color: #f0f8ff;}#sk-container-id-2 div.sk-toggleable__content pre {margin: 0.2em;color: black;border-radius: 0.25em;background-color: #f0f8ff;}#sk-container-id-2 input.sk-toggleable__control:checked~div.sk-toggleable__content {max-height: 200px;max-width: 100%;overflow: auto;}#sk-container-id-2 input.sk-toggleable__control:checked~label.sk-toggleable__label-arrow:before {content: \"▾\";}#sk-container-id-2 div.sk-estimator input.sk-toggleable__control:checked~label.sk-toggleable__label {background-color: #d4ebff;}#sk-container-id-2 div.sk-label input.sk-toggleable__control:checked~label.sk-toggleable__label {background-color: #d4ebff;}#sk-container-id-2 input.sk-hidden--visually {border: 0;clip: rect(1px 1px 1px 1px);clip: rect(1px, 1px, 1px, 1px);height: 1px;margin: -1px;overflow: hidden;padding: 0;position: absolute;width: 1px;}#sk-container-id-2 div.sk-estimator {font-family: monospace;background-color: #f0f8ff;border: 1px dotted black;border-radius: 0.25em;box-sizing: border-box;margin-bottom: 0.5em;}#sk-container-id-2 div.sk-estimator:hover {background-color: #d4ebff;}#sk-container-id-2 div.sk-parallel-item::after {content: \"\";width: 100%;border-bottom: 1px solid gray;flex-grow: 1;}#sk-container-id-2 div.sk-label:hover label.sk-toggleable__label {background-color: #d4ebff;}#sk-container-id-2 div.sk-serial::before {content: \"\";position: absolute;border-left: 1px solid gray;box-sizing: border-box;top: 0;bottom: 0;left: 50%;z-index: 0;}#sk-container-id-2 div.sk-serial {display: flex;flex-direction: column;align-items: center;background-color: white;padding-right: 0.2em;padding-left: 0.2em;position: relative;}#sk-container-id-2 div.sk-item {position: relative;z-index: 1;}#sk-container-id-2 div.sk-parallel {display: flex;align-items: stretch;justify-content: center;background-color: white;position: relative;}#sk-container-id-2 div.sk-item::before, #sk-container-id-2 div.sk-parallel-item::before {content: \"\";position: absolute;border-left: 1px solid gray;box-sizing: border-box;top: 0;bottom: 0;left: 50%;z-index: -1;}#sk-container-id-2 div.sk-parallel-item {display: flex;flex-direction: column;z-index: 1;position: relative;background-color: white;}#sk-container-id-2 div.sk-parallel-item:first-child::after {align-self: flex-end;width: 50%;}#sk-container-id-2 div.sk-parallel-item:last-child::after {align-self: flex-start;width: 50%;}#sk-container-id-2 div.sk-parallel-item:only-child::after {width: 0;}#sk-container-id-2 div.sk-dashed-wrapped {border: 1px dashed gray;margin: 0 0.4em 0.5em 0.4em;box-sizing: border-box;padding-bottom: 0.4em;background-color: white;}#sk-container-id-2 div.sk-label label {font-family: monospace;font-weight: bold;display: inline-block;line-height: 1.2em;}#sk-container-id-2 div.sk-label-container {text-align: center;}#sk-container-id-2 div.sk-container {/* jupyter's `normalize.less` sets `[hidden] { display: none; }` but bootstrap.min.css set `[hidden] { display: none !important; }` so we also need the `!important` here to be able to override the default hidden behavior on the sphinx rendered scikit-learn.org. See: https://github.com/scikit-learn/scikit-learn/issues/21755 */display: inline-block !important;position: relative;}#sk-container-id-2 div.sk-text-repr-fallback {display: none;}</style><div id=\"sk-container-id-2\" class=\"sk-top-container\"><div class=\"sk-text-repr-fallback\"><pre>RandomForestClassifier(random_state=42)</pre><b>In a Jupyter environment, please rerun this cell to show the HTML representation or trust the notebook. <br />On GitHub, the HTML representation is unable to render, please try loading this page with nbviewer.org.</b></div><div class=\"sk-container\" hidden><div class=\"sk-item\"><div class=\"sk-estimator sk-toggleable\"><input class=\"sk-toggleable__control sk-hidden--visually\" id=\"sk-estimator-id-2\" type=\"checkbox\" checked><label for=\"sk-estimator-id-2\" class=\"sk-toggleable__label sk-toggleable__label-arrow\">RandomForestClassifier</label><div class=\"sk-toggleable__content\"><pre>RandomForestClassifier(random_state=42)</pre></div></div></div></div></div>"
            ]
          },
          "metadata": {},
          "execution_count": 36
        }
      ]
    },
    {
      "cell_type": "code",
      "source": [
        "X_selected.shape"
      ],
      "metadata": {
        "id": "v_IZ06Wq6Yyj",
        "colab": {
          "base_uri": "https://localhost:8080/"
        },
        "outputId": "863c4825-0f30-4eb7-f67a-3f8fc00f2b5b"
      },
      "execution_count": 37,
      "outputs": [
        {
          "output_type": "execute_result",
          "data": {
            "text/plain": [
              "(1102, 5)"
            ]
          },
          "metadata": {},
          "execution_count": 37
        }
      ]
    },
    {
      "cell_type": "code",
      "source": [
        "df1 = X_selected.copy()"
      ],
      "metadata": {
        "id": "YnXQIk1V63HE"
      },
      "execution_count": 38,
      "outputs": []
    },
    {
      "cell_type": "code",
      "source": [
        "df1.shape"
      ],
      "metadata": {
        "id": "oYNJqsZklEsG",
        "colab": {
          "base_uri": "https://localhost:8080/"
        },
        "outputId": "a822bd8c-5073-42f6-9c78-51cd1c192634"
      },
      "execution_count": 39,
      "outputs": [
        {
          "output_type": "execute_result",
          "data": {
            "text/plain": [
              "(1102, 5)"
            ]
          },
          "metadata": {},
          "execution_count": 39
        }
      ]
    },
    {
      "cell_type": "code",
      "source": [
        "df1.columns"
      ],
      "metadata": {
        "id": "b6-zCymgroeY",
        "outputId": "16ec4810-a125-478d-ecec-21a681239efe",
        "colab": {
          "base_uri": "https://localhost:8080/"
        }
      },
      "execution_count": 40,
      "outputs": [
        {
          "output_type": "execute_result",
          "data": {
            "text/plain": [
              "Index(['AccMeanY', 'AccSkewY', 'AccMinY', 'AccMaxY', 'GyroCovZ'], dtype='object')"
            ]
          },
          "metadata": {},
          "execution_count": 40
        }
      ]
    },
    {
      "cell_type": "code",
      "source": [
        "df1.head"
      ],
      "metadata": {
        "id": "6y5juSIalKdl",
        "colab": {
          "base_uri": "https://localhost:8080/"
        },
        "outputId": "85d17298-8059-46e1-f5a8-88dfbf9b08ed"
      },
      "execution_count": 41,
      "outputs": [
        {
          "output_type": "execute_result",
          "data": {
            "text/plain": [
              "<bound method NDFrame.head of       AccMeanY  AccSkewY   AccMinY   AccMaxY  GyroCovZ\n",
              "0    -0.138611 -1.305868 -0.226807 -0.086670  0.262859\n",
              "1    -0.161670 -0.395088 -0.253906 -0.086670  0.270340\n",
              "2    -0.158325 -0.603657 -0.253906 -0.086670  0.905518\n",
              "3    -0.172468 -0.152454 -0.257324 -0.086670  0.893127\n",
              "4    -0.164185 -0.446061 -0.257324 -0.086670  0.799787\n",
              "...        ...       ...       ...       ...       ...\n",
              "1097 -0.094552 -0.614773 -0.431152  0.144775  4.873553\n",
              "1098 -0.092791 -0.640988 -0.431152  0.144775  4.557117\n",
              "1099 -0.091030 -0.673323 -0.431152  0.144775  4.568735\n",
              "1100 -0.091047 -0.672990 -0.431152  0.144775  4.603264\n",
              "1101 -0.094744 -0.651531 -0.431152  0.144775  4.736066\n",
              "\n",
              "[1102 rows x 5 columns]>"
            ]
          },
          "metadata": {},
          "execution_count": 41
        }
      ]
    },
    {
      "cell_type": "markdown",
      "source": [
        "# gradio"
      ],
      "metadata": {
        "id": "4VZacrZr5DcE"
      }
    },
    {
      "cell_type": "code",
      "source": [
        "!pip install -q gradio"
      ],
      "metadata": {
        "id": "12c0NxpU4AJl",
        "colab": {
          "base_uri": "https://localhost:8080/"
        },
        "outputId": "7fe5fb52-6e77-456a-b0d0-d5095a877419"
      },
      "execution_count": 42,
      "outputs": [
        {
          "output_type": "stream",
          "name": "stdout",
          "text": [
            "\u001b[2K     \u001b[90m━━━━━━━━━━━━━━━━━━━━━━━━━━━━━━━━━━━━━━━━\u001b[0m \u001b[32m19.9/19.9 MB\u001b[0m \u001b[31m58.8 MB/s\u001b[0m eta \u001b[36m0:00:00\u001b[0m\n",
            "\u001b[2K     \u001b[90m━━━━━━━━━━━━━━━━━━━━━━━━━━━━━━━━━━━━━━━━\u001b[0m \u001b[32m65.7/65.7 kB\u001b[0m \u001b[31m6.3 MB/s\u001b[0m eta \u001b[36m0:00:00\u001b[0m\n",
            "\u001b[?25h  Preparing metadata (setup.py) ... \u001b[?25l\u001b[?25hdone\n",
            "\u001b[2K     \u001b[90m━━━━━━━━━━━━━━━━━━━━━━━━━━━━━━━━━━━━━━\u001b[0m \u001b[32m294.2/294.2 kB\u001b[0m \u001b[31m26.3 MB/s\u001b[0m eta \u001b[36m0:00:00\u001b[0m\n",
            "\u001b[2K     \u001b[90m━━━━━━━━━━━━━━━━━━━━━━━━━━━━━━━━━━━━━━━━\u001b[0m \u001b[32m75.4/75.4 kB\u001b[0m \u001b[31m8.1 MB/s\u001b[0m eta \u001b[36m0:00:00\u001b[0m\n",
            "\u001b[2K     \u001b[90m━━━━━━━━━━━━━━━━━━━━━━━━━━━━━━━━━━━━━━\u001b[0m \u001b[32m268.8/268.8 kB\u001b[0m \u001b[31m24.1 MB/s\u001b[0m eta \u001b[36m0:00:00\u001b[0m\n",
            "\u001b[2K     \u001b[90m━━━━━━━━━━━━━━━━━━━━━━━━━━━━━━━━━━━━━━━━\u001b[0m \u001b[32m50.5/50.5 kB\u001b[0m \u001b[31m5.1 MB/s\u001b[0m eta \u001b[36m0:00:00\u001b[0m\n",
            "\u001b[2K     \u001b[90m━━━━━━━━━━━━━━━━━━━━━━━━━━━━━━━━━━━━━━\u001b[0m \u001b[32m140.3/140.3 kB\u001b[0m \u001b[31m12.9 MB/s\u001b[0m eta \u001b[36m0:00:00\u001b[0m\n",
            "\u001b[2K     \u001b[90m━━━━━━━━━━━━━━━━━━━━━━━━━━━━━━━━━━━━━━━━\u001b[0m \u001b[32m45.7/45.7 kB\u001b[0m \u001b[31m4.1 MB/s\u001b[0m eta \u001b[36m0:00:00\u001b[0m\n",
            "\u001b[2K     \u001b[90m━━━━━━━━━━━━━━━━━━━━━━━━━━━━━━━━━━━━━━━━\u001b[0m \u001b[32m59.5/59.5 kB\u001b[0m \u001b[31m5.7 MB/s\u001b[0m eta \u001b[36m0:00:00\u001b[0m\n",
            "\u001b[2K     \u001b[90m━━━━━━━━━━━━━━━━━━━━━━━━━━━━━━━━━━━━━━\u001b[0m \u001b[32m129.9/129.9 kB\u001b[0m \u001b[31m12.2 MB/s\u001b[0m eta \u001b[36m0:00:00\u001b[0m\n",
            "\u001b[2K     \u001b[90m━━━━━━━━━━━━━━━━━━━━━━━━━━━━━━━━━━━━━━━━\u001b[0m \u001b[32m50.4/50.4 kB\u001b[0m \u001b[31m5.0 MB/s\u001b[0m eta \u001b[36m0:00:00\u001b[0m\n",
            "\u001b[2K     \u001b[90m━━━━━━━━━━━━━━━━━━━━━━━━━━━━━━━━━━━━━━━━\u001b[0m \u001b[32m46.5/46.5 kB\u001b[0m \u001b[31m4.5 MB/s\u001b[0m eta \u001b[36m0:00:00\u001b[0m\n",
            "\u001b[2K     \u001b[90m━━━━━━━━━━━━━━━━━━━━━━━━━━━━━━━━━━━━━━━━\u001b[0m \u001b[32m43.7/43.7 kB\u001b[0m \u001b[31m4.6 MB/s\u001b[0m eta \u001b[36m0:00:00\u001b[0m\n",
            "\u001b[2K     \u001b[90m━━━━━━━━━━━━━━━━━━━━━━━━━━━━━━━━━━━━━━━━\u001b[0m \u001b[32m41.0/41.0 kB\u001b[0m \u001b[31m3.4 MB/s\u001b[0m eta \u001b[36m0:00:00\u001b[0m\n",
            "\u001b[2K     \u001b[90m━━━━━━━━━━━━━━━━━━━━━━━━━━━━━━━━━━━━━━━━\u001b[0m \u001b[32m41.0/41.0 kB\u001b[0m \u001b[31m3.9 MB/s\u001b[0m eta \u001b[36m0:00:00\u001b[0m\n",
            "\u001b[2K     \u001b[90m━━━━━━━━━━━━━━━━━━━━━━━━━━━━━━━━━━━━━━━━\u001b[0m \u001b[32m87.5/87.5 kB\u001b[0m \u001b[31m8.5 MB/s\u001b[0m eta \u001b[36m0:00:00\u001b[0m\n",
            "\u001b[2K     \u001b[90m━━━━━━━━━━━━━━━━━━━━━━━━━━━━━━━━━━━━━━━━\u001b[0m \u001b[32m84.5/84.5 kB\u001b[0m \u001b[31m9.0 MB/s\u001b[0m eta \u001b[36m0:00:00\u001b[0m\n",
            "\u001b[2K     \u001b[90m━━━━━━━━━━━━━━━━━━━━━━━━━━━━━━━━━━━━━━━━\u001b[0m \u001b[32m58.3/58.3 kB\u001b[0m \u001b[31m5.4 MB/s\u001b[0m eta \u001b[36m0:00:00\u001b[0m\n",
            "\u001b[2K     \u001b[90m━━━━━━━━━━━━━━━━━━━━━━━━━━━━━━━━━━━━━━━━\u001b[0m \u001b[32m67.0/67.0 kB\u001b[0m \u001b[31m6.5 MB/s\u001b[0m eta \u001b[36m0:00:00\u001b[0m\n",
            "\u001b[2K     \u001b[90m━━━━━━━━━━━━━━━━━━━━━━━━━━━━━━━━━━━━━━━━\u001b[0m \u001b[32m74.5/74.5 kB\u001b[0m \u001b[31m8.0 MB/s\u001b[0m eta \u001b[36m0:00:00\u001b[0m\n",
            "\u001b[?25h  Building wheel for ffmpy (setup.py) ... \u001b[?25l\u001b[?25hdone\n"
          ]
        }
      ]
    },
    {
      "cell_type": "code",
      "source": [
        "import gradio as gr\n",
        "import pandas as pd\n",
        "import numpy as np\n",
        "import sklearn\n",
        "from sklearn import preprocessing"
      ],
      "metadata": {
        "id": "6b87ugSi38n0"
      },
      "execution_count": 43,
      "outputs": []
    },
    {
      "cell_type": "code",
      "source": [
        "def predict_category(test_data):\n",
        "  test = [float(x) for x in test_data.split()]\n",
        "  v = rf.predict([test])\n",
        "  if(v == 1):\n",
        "      return \"1 Sudden Acceleration\"\n",
        "  elif(v == 2):\n",
        "    return \"2 Sudden Right Turn\"\n",
        "  elif(v == 3):\n",
        "    return \"3 Sudden Left Turn\"\n",
        "  elif(v == 4):\n",
        "    return \"4 Sudden Break\"\n",
        "  return \"Unknown\"\n",
        "  # return v\n",
        "# !pip install gradio\n",
        "# import gradio as gr\n",
        "# input_text = [gr.inputs.Textbox(label='Input')]\n",
        "input_text= gr.inputs.Textbox(label=\"Enter 5 inputs\")\n",
        "output_text = gr.outputs.Textbox(label='output')\n",
        "interface = gr.Interface(fn=predict_category, inputs=input_text, outputs=output_text)\n",
        "\n",
        "# Launch the interface\n",
        "# interface.launch()"
      ],
      "metadata": {
        "id": "rwTq9yjq31_F",
        "colab": {
          "base_uri": "https://localhost:8080/"
        },
        "outputId": "615871ed-5bb1-4051-9dee-a26fc417c566"
      },
      "execution_count": 44,
      "outputs": [
        {
          "output_type": "stream",
          "name": "stderr",
          "text": [
            "<ipython-input-44-ec1a2d0d0ac0>:17: GradioDeprecationWarning: Usage of gradio.inputs is deprecated, and will not be supported in the future, please import your component from gradio.components\n",
            "  input_text= gr.inputs.Textbox(label=\"Enter 5 inputs\")\n",
            "<ipython-input-44-ec1a2d0d0ac0>:17: GradioDeprecationWarning: `optional` parameter is deprecated, and it has no effect\n",
            "  input_text= gr.inputs.Textbox(label=\"Enter 5 inputs\")\n",
            "<ipython-input-44-ec1a2d0d0ac0>:17: GradioDeprecationWarning: `numeric` parameter is deprecated, and it has no effect\n",
            "  input_text= gr.inputs.Textbox(label=\"Enter 5 inputs\")\n",
            "<ipython-input-44-ec1a2d0d0ac0>:18: GradioDeprecationWarning: Usage of gradio.outputs is deprecated, and will not be supported in the future, please import your components from gradio.components\n",
            "  output_text = gr.outputs.Textbox(label='output')\n"
          ]
        }
      ]
    },
    {
      "cell_type": "code",
      "source": [
        "from joblib import dump\n",
        "\n",
        "# Save the model to disk\n",
        "filename = 'model.joblib'\n",
        "dump(rf, filename)"
      ],
      "metadata": {
        "id": "xDJrsnPEJ_Dz",
        "colab": {
          "base_uri": "https://localhost:8080/"
        },
        "outputId": "d059f49d-e159-4e92-dcad-87f004278c88"
      },
      "execution_count": 45,
      "outputs": [
        {
          "output_type": "execute_result",
          "data": {
            "text/plain": [
              "['model.joblib']"
            ]
          },
          "metadata": {},
          "execution_count": 45
        }
      ]
    },
    {
      "cell_type": "code",
      "source": [
        "interface.launch()"
      ],
      "metadata": {
        "colab": {
          "base_uri": "https://localhost:8080/",
          "height": 616
        },
        "id": "1TuTA53FJ-45",
        "outputId": "161b9c2e-0e36-401f-a120-e331b733010c"
      },
      "execution_count": 46,
      "outputs": [
        {
          "output_type": "stream",
          "name": "stdout",
          "text": [
            "Colab notebook detected. To show errors in colab notebook, set debug=True in launch()\n",
            "Note: opening Chrome Inspector may crash demo inside Colab notebooks.\n",
            "\n",
            "To create a public link, set `share=True` in `launch()`.\n"
          ]
        },
        {
          "output_type": "display_data",
          "data": {
            "text/plain": [
              "<IPython.core.display.Javascript object>"
            ],
            "application/javascript": [
              "(async (port, path, width, height, cache, element) => {\n",
              "                        if (!google.colab.kernel.accessAllowed && !cache) {\n",
              "                            return;\n",
              "                        }\n",
              "                        element.appendChild(document.createTextNode(''));\n",
              "                        const url = await google.colab.kernel.proxyPort(port, {cache});\n",
              "\n",
              "                        const external_link = document.createElement('div');\n",
              "                        external_link.innerHTML = `\n",
              "                            <div style=\"font-family: monospace; margin-bottom: 0.5rem\">\n",
              "                                Running on <a href=${new URL(path, url).toString()} target=\"_blank\">\n",
              "                                    https://localhost:${port}${path}\n",
              "                                </a>\n",
              "                            </div>\n",
              "                        `;\n",
              "                        element.appendChild(external_link);\n",
              "\n",
              "                        const iframe = document.createElement('iframe');\n",
              "                        iframe.src = new URL(path, url).toString();\n",
              "                        iframe.height = height;\n",
              "                        iframe.allow = \"autoplay; camera; microphone; clipboard-read; clipboard-write;\"\n",
              "                        iframe.width = width;\n",
              "                        iframe.style.border = 0;\n",
              "                        element.appendChild(iframe);\n",
              "                    })(7860, \"/\", \"100%\", 500, false, window.element)"
            ]
          },
          "metadata": {}
        },
        {
          "output_type": "execute_result",
          "data": {
            "text/plain": []
          },
          "metadata": {},
          "execution_count": 46
        }
      ]
    },
    {
      "cell_type": "code",
      "source": [
        "df1.head"
      ],
      "metadata": {
        "id": "SScMjRCTKD0l"
      },
      "execution_count": null,
      "outputs": []
    },
    {
      "cell_type": "code",
      "source": [],
      "metadata": {
        "id": "wC_ZYpnYL_qE"
      },
      "execution_count": null,
      "outputs": []
    }
  ]
}